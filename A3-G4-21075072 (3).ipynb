{
  "nbformat": 4,
  "nbformat_minor": 0,
  "metadata": {
    "colab": {
      "name": "A3-G4-21075072.ipynb",
      "provenance": [],
      "collapsed_sections": []
    },
    "kernelspec": {
      "name": "python3",
      "display_name": "Python 3"
    },
    "language_info": {
      "name": "python"
    }
  },
  "cells": [
    {
      "cell_type": "markdown",
      "source": [
        "**NAME: RUCHIRA NASKAR**\n",
        "---\n",
        "**ROLL NO.: 21075072**\n",
        "---\n",
        "**DEPARTMENT: COMPUTER SCIENCE AND ENGINEERING**\n",
        "---\n",
        "**EMAIL ID: ruchira.naskar.cse21@itbhu.ac.in**\n",
        "---\n",
        "**GROUP: 4**\n",
        "---\n",
        "**PYTHON ASSIGNMENT 3**\n",
        "---\n",
        "\n"
      ],
      "metadata": {
        "id": "G2hMdO-3-kBa"
      }
    },
    {
      "cell_type": "code",
      "execution_count": null,
      "metadata": {
        "colab": {
          "base_uri": "https://localhost:8080/"
        },
        "id": "aaQZy_unUw86",
        "outputId": "726900f3-c8b0-488f-cf7a-8e383c257a56"
      },
      "outputs": [
        {
          "output_type": "stream",
          "name": "stdout",
          "text": [
            "Writing test.txt\n"
          ]
        }
      ],
      "source": [
        "%%writefile test.txt\n",
        "What is Python language?\n",
        "Python is a widely used high-level, general-purpose, interpreted, dynamic programming language. Its design philosophy emphasizes code readability, and its syntax allows programmers to express concepts in fewer lines of code than possible in\n",
        "languages such as C++ or Java.\n",
        "Python supports multiple programming paradigms, including object-oriented, imperative and functional programming or procedural styles. It features a dynamic type system and automatic memory management and has a large and comprehensive standard library. The best way we learn anything is by practice and exercise questions. We have started this section for those (beginner to intermediate) who are familiar with Python."
      ]
    },
    {
      "cell_type": "markdown",
      "source": [
        "# 1. Write python program to read the entire test.txt file."
      ],
      "metadata": {
        "id": "jYxwWzArVLnw"
      }
    },
    {
      "cell_type": "code",
      "source": [
        "#@title 1. Write python program to read the entire test.txt file.\n",
        "try:\n",
        "  f=open(\"test.txt\",'r',encoding='utf-8')\n",
        "  content=f.read()\n",
        "  print(\"Displaying the contents of the file:-\\n\")\n",
        "  print(content)\n",
        "  f.close()\n",
        "except FileNotFoundError as error:\n",
        "  print(error)"
      ],
      "metadata": {
        "colab": {
          "base_uri": "https://localhost:8080/"
        },
        "id": "GZHORtqVU_3n",
        "outputId": "a5c80404-1aef-4a4b-fbb4-73a05b24fa5d"
      },
      "execution_count": null,
      "outputs": [
        {
          "output_type": "stream",
          "name": "stdout",
          "text": [
            "Displaying the contents of the file:-\n",
            "\n",
            "What is Python language?\n",
            "Python is a widely used high-level, general-purpose, interpreted, dynamic programming language. Its design philosophy emphasizes code readability, and its syntax allows programmers to express concepts in fewer lines of code than possible in\n",
            "languages such as C++ or Java.\n",
            "Python supports multiple programming paradigms, including object-oriented, imperative and functional programming or procedural styles. It features a dynamic type system and automatic memory management and has a large and comprehensive standard library. The best way we learn anything is by practice and exercise questions. We have started this section for those (beginner to intermediate) who are familiar with Python.\n"
          ]
        }
      ]
    },
    {
      "cell_type": "markdown",
      "source": [
        ""
      ],
      "metadata": {
        "id": "ZkOYqO2O-ZYd"
      }
    },
    {
      "cell_type": "markdown",
      "source": [
        "# 2. Write python program to read first “n” lines of a file."
      ],
      "metadata": {
        "id": "T6GmpaqEVzEN"
      }
    },
    {
      "cell_type": "code",
      "source": [
        "#@title 2. Write python program to read first “n” lines of a file.\n",
        "fileinp=input(\"Enter file name: \")\n",
        "try:\n",
        "  f=open(fileinp,'r',encoding='utf-8')\n",
        "  n=int(input(\"Enter the value of n: \"))\n",
        "  print(\"Displaying the first %d lines of the file:-\\n\"%n)\n",
        "  for i in range(n):\n",
        "    print(f.readline(),end=\"\")\n",
        "  f.close()\n",
        "except FileNotFoundError as error:\n",
        "  print(error)"
      ],
      "metadata": {
        "colab": {
          "base_uri": "https://localhost:8080/"
        },
        "id": "fCdocy_pV1VB",
        "outputId": "e9931efe-8c98-4316-af6e-cf07779729b9"
      },
      "execution_count": null,
      "outputs": [
        {
          "output_type": "stream",
          "name": "stdout",
          "text": [
            "Enter file name: test.txt\n",
            "Enter the value of n: 3\n",
            "Displaying the first 3 lines of the file:-\n",
            "\n",
            "What is Python language?\n",
            "Python is a widely used high-level, general-purpose, interpreted, dynamic programming language. Its design philosophy emphasizes code readability, and its syntax allows programmers to express concepts in fewer lines of code than possible in\n",
            "languages such as C++ or Java.\n"
          ]
        }
      ]
    },
    {
      "cell_type": "markdown",
      "source": [
        "# 3. Write python program to append text to a file and display the text."
      ],
      "metadata": {
        "id": "l09wOBcfAYqD"
      }
    },
    {
      "cell_type": "code",
      "source": [
        "%%writefile myfile.txt\n",
        "Hello everyone !"
      ],
      "metadata": {
        "colab": {
          "base_uri": "https://localhost:8080/"
        },
        "id": "VDdesXig_DRp",
        "outputId": "5d9be04d-1db3-440f-f111-5d7e5aa096fb"
      },
      "execution_count": null,
      "outputs": [
        {
          "output_type": "stream",
          "name": "stdout",
          "text": [
            "Writing myfile.txt\n"
          ]
        }
      ]
    },
    {
      "cell_type": "code",
      "source": [
        "#@title 3. Write python program to append text to a file and display the text.\n",
        "fileinp=input(\"Enter file name: \")\n",
        "try:\n",
        "  f=open(fileinp,'r',encoding=\"utf-8\")\n",
        "  content=f.read()\n",
        "  print(\"Displaying the contents of the file originally:-\\n\")\n",
        "  print(content,\"\\n\")\n",
        "  f=open(fileinp,'a',encoding='utf-8')\n",
        "  s=input(\"Enter the text to be appended: \")\n",
        "  f.write(\"\\n\"+s)\n",
        "  f.close()\n",
        "  with open(fileinp,'r',encoding=\"utf-8\") as f:\n",
        "    content=f.read()\n",
        "  print(\"Displaying the contents of the file after appending text:-\\n\")\n",
        "  print(content)\n",
        "except FileNotFoundError as error:\n",
        "  print(error)"
      ],
      "metadata": {
        "colab": {
          "base_uri": "https://localhost:8080/"
        },
        "id": "eoJtO0S__TqY",
        "outputId": "7a407a4c-99f3-4860-d36e-825b628f0dd9"
      },
      "execution_count": null,
      "outputs": [
        {
          "output_type": "stream",
          "name": "stdout",
          "text": [
            "Enter file name: myfile.txt\n",
            "Displaying the contents of the file originally:-\n",
            "\n",
            "Hello everyone ! \n",
            "\n",
            "Enter the text to be appended: This is ITW1 class.\n",
            "Displaying the contents of the file after appending text:-\n",
            "\n",
            "Hello everyone !\n",
            "This is ITW1 class.\n"
          ]
        }
      ]
    },
    {
      "cell_type": "markdown",
      "source": [
        "# 4. Write python program to read last “n” lines of a file."
      ],
      "metadata": {
        "id": "8jb9d_tQAfI1"
      }
    },
    {
      "cell_type": "code",
      "source": [
        "#@title 4. Write python program to read last “n” lines of a file.\n",
        "fileinp=input(\"Enter file name: \")\n",
        "try:\n",
        "  n=int(input(\"Enter the value of n: \"))\n",
        "  f=open(fileinp,'r',encoding='utf-8')\n",
        "  lines=f.readlines()\n",
        "  print(\"Displaying the last %d lines of the file:-\\n\"%n)\n",
        "  for i in range(-n,0):\n",
        "    print(lines[i][0:len(lines[i])-1])\n",
        "  f.close()\n",
        "except FileNotFoundError as error:\n",
        "  print(error)"
      ],
      "metadata": {
        "colab": {
          "base_uri": "https://localhost:8080/"
        },
        "id": "Smnet9_oAMWo",
        "outputId": "c8707c66-4d77-4cf4-fa68-4be823869a7b"
      },
      "execution_count": null,
      "outputs": [
        {
          "output_type": "stream",
          "name": "stdout",
          "text": [
            "Enter file name: test.txt\n",
            "Enter the value of n: 2\n",
            "Displaying the last 2 lines of the file:-\n",
            "\n",
            "languages such as C++ or Java.\n",
            "Python supports multiple programming paradigms, including object-oriented, imperative and functional programming or procedural styles. It features a dynamic type system and automatic memory management and has a large and comprehensive standard library. The best way we learn anything is by practice and exercise questions. We have started this section for those (beginner to intermediate) who are familiar with Python\n"
          ]
        }
      ]
    },
    {
      "cell_type": "markdown",
      "source": [
        "# 5. Write python program to remove an empty tuple(s) from a list of tuples."
      ],
      "metadata": {
        "id": "Yf0Exr5lGHqJ"
      }
    },
    {
      "cell_type": "code",
      "source": [
        "#@title 5. Write a Python program to remove an empty tuple(s) from a list of tuples.\n",
        "try:\n",
        "  tup=eval(input(\"Enter list of tuples: \"))\n",
        "  cou=tup.count(())\n",
        "  for i in range(cou):\n",
        "    tup.remove(())\n",
        "  print(\"The list of tuples after performing the required action:\",tup)\n",
        "except SyntaxError as error:\n",
        "  print(error)"
      ],
      "metadata": {
        "colab": {
          "base_uri": "https://localhost:8080/"
        },
        "id": "cKfkrFOoGLIy",
        "outputId": "cedfbaf1-ebae-406a-f227-ab7526ea52bb"
      },
      "execution_count": null,
      "outputs": [
        {
          "output_type": "stream",
          "name": "stdout",
          "text": [
            "Enter list of tuples:  [(), (), ('',), ('a', 'b'), ('a', 'b', 'c'), ('d')]\n",
            "The list of tuples after performing the required action: [('',), ('a', 'b'), ('a', 'b', 'c'), 'd']\n"
          ]
        }
      ]
    },
    {
      "cell_type": "markdown",
      "source": [
        "# 6. Write python program to count the number of lines in a text file."
      ],
      "metadata": {
        "id": "FikMVFJEI5ra"
      }
    },
    {
      "cell_type": "code",
      "source": [
        "#@title 6. Write python program to count the number of lines in a text file.\n",
        "fileinp=input(\"Enter file name: \")\n",
        "try:\n",
        "  f=open(fileinp,'r',encoding='utf-8')\n",
        "  lines=f.readlines()\n",
        "  print(\"The number of lines in the file is:\",len(lines))\n",
        "  f.close()\n",
        "except FileNotFoundError as error:\n",
        "  print(error)"
      ],
      "metadata": {
        "colab": {
          "base_uri": "https://localhost:8080/"
        },
        "id": "KKRvOwtdI6H7",
        "outputId": "0e05996a-bf0b-4bf8-affd-539988ee434c"
      },
      "execution_count": null,
      "outputs": [
        {
          "output_type": "stream",
          "name": "stdout",
          "text": [
            "Enter file name: test.txt\n",
            "The number of lines in the file is: 4\n"
          ]
        }
      ]
    },
    {
      "cell_type": "markdown",
      "source": [
        "# 7. Write python program to count the frequency of words in a file.\n"
      ],
      "metadata": {
        "id": "T4RZi5JmJN9G"
      }
    },
    {
      "cell_type": "code",
      "source": [
        "#@title 7. Write python program to count the frequency of words in a file.\n",
        "from collections import Counter\n",
        "fileinp=input(\"Enter file name: \")\n",
        "try:\n",
        "  with open(fileinp,\"r\",encoding=\"utf-8\") as f:\n",
        "    data=f.read().split()\n",
        "  print(Counter(data))\n",
        "except FileNotFoundError as error:\n",
        "  print(error)"
      ],
      "metadata": {
        "colab": {
          "base_uri": "https://localhost:8080/"
        },
        "id": "PTWXTD7fJSEs",
        "outputId": "64e00ea3-e021-4c0f-85c2-97197847cce0"
      },
      "execution_count": null,
      "outputs": [
        {
          "output_type": "stream",
          "name": "stdout",
          "text": [
            "Enter file name: test.txt\n",
            "Counter({'and': 6, 'is': 3, 'Python': 3, 'a': 3, 'programming': 3, 'dynamic': 2, 'code': 2, 'to': 2, 'in': 2, 'or': 2, 'What': 1, 'language?': 1, 'widely': 1, 'used': 1, 'high-level,': 1, 'general-purpose,': 1, 'interpreted,': 1, 'language.': 1, 'Its': 1, 'design': 1, 'philosophy': 1, 'emphasizes': 1, 'readability,': 1, 'its': 1, 'syntax': 1, 'allows': 1, 'programmers': 1, 'express': 1, 'concepts': 1, 'fewer': 1, 'lines': 1, 'of': 1, 'than': 1, 'possible': 1, 'languages': 1, 'such': 1, 'as': 1, 'C++': 1, 'Java.': 1, 'supports': 1, 'multiple': 1, 'paradigms,': 1, 'including': 1, 'object-oriented,': 1, 'imperative': 1, 'functional': 1, 'procedural': 1, 'styles.': 1, 'It': 1, 'features': 1, 'type': 1, 'system': 1, 'automatic': 1, 'memory': 1, 'management': 1, 'has': 1, 'large': 1, 'comprehensive': 1, 'standard': 1, 'library.': 1, 'The': 1, 'best': 1, 'way': 1, 'we': 1, 'learn': 1, 'anything': 1, 'by': 1, 'practice': 1, 'exercise': 1, 'questions.': 1, 'We': 1, 'have': 1, 'started': 1, 'this': 1, 'section': 1, 'for': 1, 'those': 1, '(beginner': 1, 'intermediate)': 1, 'who': 1, 'are': 1, 'familiar': 1, 'with': 1, 'Python.': 1})\n"
          ]
        }
      ]
    },
    {
      "cell_type": "markdown",
      "source": [
        "# 8. Write python program to get the file size of a text file in bytes."
      ],
      "metadata": {
        "id": "oKQnY1foKiWT"
      }
    },
    {
      "cell_type": "code",
      "source": [
        "#@title 8. Write python program to get the file size of a text file in bytes.\n",
        "def filesize(file):\n",
        "  f=open(file,'r',encoding=\"utf-8\")\n",
        "  s=\" \"\n",
        "  size=0\n",
        "  while s:\n",
        "    s=f.readline()\n",
        "    size+=len(s)\n",
        "  f.close()\n",
        "  return size\n",
        "fileinp=input(\"Enter file name: \")\n",
        "try:\n",
        "  print(\"File size in bytes of a file test.txt is:\",filesize(fileinp))\n",
        "except FileNotFoundError as error:\n",
        "  print(error)"
      ],
      "metadata": {
        "colab": {
          "base_uri": "https://localhost:8080/"
        },
        "id": "sljHjsfrKhpL",
        "outputId": "fcd13c06-b0f6-4190-b792-53782d89601b"
      },
      "execution_count": null,
      "outputs": [
        {
          "output_type": "stream",
          "name": "stdout",
          "text": [
            "Enter file name: test.txt\n",
            "File size in bytes of a file test.txt is: 715\n"
          ]
        }
      ]
    },
    {
      "cell_type": "markdown",
      "source": [
        "# 9. Write python program to write a list content to a file."
      ],
      "metadata": {
        "id": "ijO9ZnIiOGKa"
      }
    },
    {
      "cell_type": "code",
      "source": [
        "#@title 9. Write python program to write a list content to a file.\n",
        "l=eval(input(\"Enter list: \"))\n",
        "filewr=input(\"Enter the name of the file where the list content is to be written onto: \")\n",
        "with open(filewr,'w',encoding=\"utf-8\") as f:\n",
        "  for i in l:\n",
        "    f.write(\"%s\\n\"%i)\n",
        "with open(filewr,'r',encoding=\"utf-8\") as fread:\n",
        "  data=fread.read()\n",
        "print(\"Displaying the contents of the file {} :-\\n\".format(filewr))  \n",
        "print(data)"
      ],
      "metadata": {
        "colab": {
          "base_uri": "https://localhost:8080/"
        },
        "id": "kb_3m0PtOHdy",
        "outputId": "d02325ed-f7ee-40d2-a534-2d5d8647a606"
      },
      "execution_count": null,
      "outputs": [
        {
          "output_type": "stream",
          "name": "stdout",
          "text": [
            "Enter list: ['Red', 'Green', 'White', 'Black', 'Pink', 'Yellow']\n",
            "Enter the name of the file where the list content is to be written onto: filenew.txt\n",
            "Displaying the contents of the file filenew.txt :-\n",
            "\n",
            "Red\n",
            "Green\n",
            "White\n",
            "Black\n",
            "Pink\n",
            "Yellow\n",
            "\n"
          ]
        }
      ]
    },
    {
      "cell_type": "markdown",
      "source": [
        "# 10. Write python program to combine each line from first file with the corresponding line in second file.\n"
      ],
      "metadata": {
        "id": "7ETT6jrpRCYB"
      }
    },
    {
      "cell_type": "code",
      "source": [
        "%%writefile file1.txt\n",
        "Python Exercises\n",
        "Java Exercises"
      ],
      "metadata": {
        "colab": {
          "base_uri": "https://localhost:8080/"
        },
        "id": "KVrHqS4TrxLd",
        "outputId": "756c6e24-f0b6-4f47-f29d-1d9d54a44b85"
      },
      "execution_count": null,
      "outputs": [
        {
          "output_type": "stream",
          "name": "stdout",
          "text": [
            "Writing file1.txt\n"
          ]
        }
      ]
    },
    {
      "cell_type": "code",
      "source": [
        "%%writefile file2.txt\n",
        "Red\n",
        "Green"
      ],
      "metadata": {
        "colab": {
          "base_uri": "https://localhost:8080/"
        },
        "id": "U-cWQbMZRHLa",
        "outputId": "1ad5c244-0de1-4745-a9d3-4d4e4923f497"
      },
      "execution_count": null,
      "outputs": [
        {
          "output_type": "stream",
          "name": "stdout",
          "text": [
            "Writing file2.txt\n"
          ]
        }
      ]
    },
    {
      "cell_type": "code",
      "source": [
        "#@title 10. Write python program to combine each line from first file with the corresponding line in second file.\n",
        "f1=input(\"Enter name of file 1: \")\n",
        "f2=input(\"Enter name of file 2: \")\n",
        "try:\n",
        "  with open(f1) as fob1, open(f2) as fob2:\n",
        "    lz=zip(fob1,fob2)\n",
        "    print(\"Displaying the required data:- \\n\")\n",
        "    for i,j in lz:\n",
        "      i=i.strip()\n",
        "      j=j.strip()\n",
        "      print(i)\n",
        "      print(j)\n",
        "except FileNotFoundError as error:\n",
        "  print(error)"
      ],
      "metadata": {
        "colab": {
          "base_uri": "https://localhost:8080/"
        },
        "id": "JkiUSziEsMWD",
        "outputId": "048b8c10-cd76-47d2-92cb-fd4aad9512a3"
      },
      "execution_count": null,
      "outputs": [
        {
          "output_type": "stream",
          "name": "stdout",
          "text": [
            "Enter name of file 1: file1.txt\n",
            "Enter name of file 2: file2.txt\n",
            "Displaying the required data:- \n",
            "\n",
            "Python Exercises\n",
            "Red\n",
            "Java Exercises\n",
            "Green\n"
          ]
        }
      ]
    },
    {
      "cell_type": "markdown",
      "source": [
        "# 11. Write python program to read a random line from a file."
      ],
      "metadata": {
        "id": "vPDjaHZehrIx"
      }
    },
    {
      "cell_type": "code",
      "source": [
        "#@title 11. Write python program to read a random line from a file.\n",
        "import random\n",
        "fileinp=input(\"Enter file name: \")\n",
        "try:\n",
        "  with open(fileinp,\"r\",encoding=\"utf-8\") as f:\n",
        "    print(\"Displaying a random line from the file:-\\n\")\n",
        "    lines=f.read().splitlines()\n",
        "    print(random.choice(lines))\n",
        "except FileNotFoundError as error:\n",
        "  print(error)"
      ],
      "metadata": {
        "colab": {
          "base_uri": "https://localhost:8080/"
        },
        "id": "Cvo8NL2BhvRB",
        "outputId": "d52e0aca-8fce-4308-c604-e2c1ac3f6f79"
      },
      "execution_count": null,
      "outputs": [
        {
          "output_type": "stream",
          "name": "stdout",
          "text": [
            "Enter file name: test.txt\n",
            "Displaying a random line from the file:-\n",
            "\n",
            "Python is a widely used high-level, general-purpose, interpreted, dynamic programming language. Its design philosophy emphasizes code readability, and its syntax allows programmers to express concepts in fewer lines of code than possible in\n"
          ]
        }
      ]
    },
    {
      "cell_type": "markdown",
      "source": [
        "# 12. Write python program that accepts sequence of lines as input and prints the lines after making all characters in the sentence capitalized."
      ],
      "metadata": {
        "id": "OZcBX_CAng14"
      }
    },
    {
      "cell_type": "code",
      "source": [
        "#@title 12. Write python program that accepts sequence of lines as input and prints the lines after making all characters in the sentence capitalized.\n",
        "res=[]\n",
        "while True:\n",
        "  try:\n",
        "    line=input(\"Enter line: \")\n",
        "    p=res.append(line)\n",
        "  except EOFError:\n",
        "    break\n",
        "for i in range(len(res)):\n",
        "  res[i]=res[i].upper()\n",
        "print(\"\\nDisplaying the lines after capitalizing all characters:-\\n\")\n",
        "for i in res:\n",
        "  print(i)"
      ],
      "metadata": {
        "colab": {
          "base_uri": "https://localhost:8080/"
        },
        "id": "egYpaJ9RnmCc",
        "outputId": "e99d8008-4e27-48a5-faf4-535e943ec048"
      },
      "execution_count": null,
      "outputs": [
        {
          "output_type": "stream",
          "name": "stdout",
          "text": [
            "Enter line: Hello everyone\n",
            "Enter line: Practice makes perfect\n",
            "Enter line: \u0004\n",
            "\n",
            "Displaying the lines after capitalizing all characters:-\n",
            "\n",
            "HELLO EVERYONE\n",
            "PRACTICE MAKES PERFECT\n"
          ]
        }
      ]
    },
    {
      "cell_type": "markdown",
      "source": [
        "# 13. Write python code to split the word from the input file."
      ],
      "metadata": {
        "id": "cDejX_2Ga63Z"
      }
    },
    {
      "cell_type": "code",
      "source": [
        "%%writefile input_file.txt\n",
        "Python Exercises\n",
        "Java Exercises"
      ],
      "metadata": {
        "colab": {
          "base_uri": "https://localhost:8080/"
        },
        "id": "F8lDaWc2a8ij",
        "outputId": "7241e65e-68f6-4cb4-ff61-fb26760365a6"
      },
      "execution_count": null,
      "outputs": [
        {
          "output_type": "stream",
          "name": "stdout",
          "text": [
            "Writing input_file.txt\n"
          ]
        }
      ]
    },
    {
      "cell_type": "code",
      "source": [
        "#@title 13. Write python code to split the word from the input file.\n",
        "fileinp=input(\"Enter file name: \")\n",
        "try:\n",
        "  with open(fileinp,\"r\",encoding=\"utf-8\") as f:\n",
        "    data=f.readlines()\n",
        "  print(\"Splitting:-\\n\")\n",
        "  for i in data:\n",
        "    i=i.rstrip(\"\\n\")\n",
        "    i=list(i.split())\n",
        "    print(i)\n",
        "except FileNotFoundError as error:\n",
        "  print(error)"
      ],
      "metadata": {
        "colab": {
          "base_uri": "https://localhost:8080/"
        },
        "id": "awOQwMoXbP4v",
        "outputId": "acc41f4a-9e4c-4baf-c67a-3bfcf908ee54"
      },
      "execution_count": null,
      "outputs": [
        {
          "output_type": "stream",
          "name": "stdout",
          "text": [
            "Enter file name: input_file.txt\n",
            "Splitting:-\n",
            "\n",
            "['Python', 'Exercises']\n",
            "['Java', 'Exercises']\n"
          ]
        }
      ]
    },
    {
      "cell_type": "markdown",
      "source": [
        "# 14. Write python code to find the current working directory also do the following operations:\n",
        "A. creating a new directory.  \n",
        "B. create a new text file in the new directory.   \n",
        "C. delete the new directory.\n",
        "\n",
        "\n",
        "\n"
      ],
      "metadata": {
        "id": "w8NeAvXBhe6h"
      }
    },
    {
      "cell_type": "code",
      "source": [
        "#@title Write python code to find the current working directory also do the following operations: A. creating a new directory. B. create a new text file in the new directory. C. delete the new directory.\n",
        "import os\n",
        "import shutil\n",
        "cwd=os.getcwd()\n",
        "print(\"My current working directory is:\",cwd,\"\\n\")\n",
        "direc=input(\"Enter the name of new directory to be created: \")\n",
        "pardirec=input(\"Enter the name of parent directory which the new directory must be a part of: \")\n",
        "dirpath=os.path.join(pardirec,direc)\n",
        "try:\n",
        "  os.mkdir(dirpath)\n",
        "  print(\"The content of the parent directory after creating new directory is now:\",os.listdir(pardirec))\n",
        "  fileindir=input(\"Enter file name: \")\n",
        "  with open(os.path.join(dirpath,fileindir),'w') as fnew:\n",
        "    pass\n",
        "    fnew.write(\"New text file created. This is the content of the file.\")\n",
        "    filepath=os.path.join(dirpath,fileindir)\n",
        "  with open(filepath,'r',encoding='utf-8') as f:\n",
        "    data=f.read()\n",
        "    print(\"Displaying the contents of the new file created:-\\n\")\n",
        "    print(data,\"\\n\")\n",
        "  print(\"The content of the new directory after creating the file in it is now:\",os.listdir(dirpath))\n",
        "  shutil.rmtree(dirpath, ignore_errors=True)\n",
        "  print(\"The content of the parent directory after deleting the new directory is now:\",os.listdir(pardirec))\n",
        "except OSError as error:\n",
        "  print(error)"
      ],
      "metadata": {
        "colab": {
          "base_uri": "https://localhost:8080/"
        },
        "id": "Yc4nhVf1voP4",
        "outputId": "1ddea202-35f4-471e-eb7b-506669c9ec3d"
      },
      "execution_count": null,
      "outputs": [
        {
          "output_type": "stream",
          "name": "stdout",
          "text": [
            "My current working directory is: /content \n",
            "\n",
            "Enter the name of new directory to be created: newdir\n",
            "Enter the name of parent directory which the new directory must be a part of: /content\n",
            "The content of the parent directory after creating new directory is now: ['.config', 'test.txt', 'newdir', 'colors.txt', 'input_file.txt', 'file1.txt', 'myfile.txt', 'file2.txt', 'filenew.txt', 'sample_data']\n",
            "Enter file name: newfilehere.txt\n",
            "Displaying the contents of the new file created:-\n",
            "\n",
            "New text file created. This is the content of the file. \n",
            "\n",
            "The content of the new directory after creating the file in it is now: ['newfilehere.txt']\n",
            "The content of the parent directory after deleting the new directory is now: ['.config', 'test.txt', 'colors.txt', 'input_file.txt', 'file1.txt', 'myfile.txt', 'file2.txt', 'filenew.txt', 'sample_data']\n"
          ]
        }
      ]
    }
  ]
}