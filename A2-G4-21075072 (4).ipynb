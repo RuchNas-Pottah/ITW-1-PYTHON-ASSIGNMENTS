{
  "nbformat": 4,
  "nbformat_minor": 0,
  "metadata": {
    "colab": {
      "name": "A2-G4-21075072.ipynb",
      "provenance": [],
      "collapsed_sections": []
    },
    "kernelspec": {
      "name": "python3",
      "display_name": "Python 3"
    },
    "language_info": {
      "name": "python"
    }
  },
  "cells": [
    {
      "cell_type": "markdown",
      "source": [
        "NAME: RUCHIRA NASKAR"
      ],
      "metadata": {
        "id": "WjSNNKlFktUN"
      }
    },
    {
      "cell_type": "markdown",
      "source": [
        "ROLL NO.: 21075072"
      ],
      "metadata": {
        "id": "5KkAWicUlbij"
      }
    },
    {
      "cell_type": "markdown",
      "source": [
        "DEPARTMENT: COMPUTER SCIENCE AND ENGINEERING"
      ],
      "metadata": {
        "id": "-wPC05F-ldPU"
      }
    },
    {
      "cell_type": "markdown",
      "source": [
        "EMAIL ID: ruchira.naskar.cse21@itbhu.ac.in"
      ],
      "metadata": {
        "id": "a1Rlik3-liZf"
      }
    },
    {
      "cell_type": "markdown",
      "source": [
        "PYTHON ASSIGNMENT 2"
      ],
      "metadata": {
        "id": "40cUhVV-lnru"
      }
    },
    {
      "cell_type": "markdown",
      "source": [
        "GROUP: 4"
      ],
      "metadata": {
        "id": "HNZXW91JltZj"
      }
    },
    {
      "cell_type": "markdown",
      "source": [
        "1. Write a Python program to match key values in two dictionaries."
      ],
      "metadata": {
        "id": "uHc7d_DRfFA8"
      }
    },
    {
      "cell_type": "code",
      "execution_count": null,
      "metadata": {
        "colab": {
          "base_uri": "https://localhost:8080/"
        },
        "id": "sRkWS3uKGWvj",
        "outputId": "e4bffe9f-7e4b-4d98-8754-907b2cf20a3e"
      },
      "outputs": [
        {
          "output_type": "stream",
          "name": "stdout",
          "text": [
            "Enter dictionary x:{'key1': 1, 'key2': 3, 'key3': 2}\n",
            "Enter dictionary y:{'key1': 1, 'key2': 2}\n",
            "key1 : 1 is present in both x and y\n"
          ]
        }
      ],
      "source": [
        "#@title 1. Write a Python program to match key values in two dictionaries.\n",
        "x=eval(input(\"Enter dictionary x:\"))\n",
        "y=eval(input(\"Enter dictionary y:\"))\n",
        "dkey1=list(x.keys())\n",
        "dkey2=list(y.keys())\n",
        "cou=0\n",
        "for i in dkey1:\n",
        "  for j in dkey2:\n",
        "    if i==j:\n",
        "      val1,val2=x[i],y[j]\n",
        "      if val1==val2:\n",
        "        print(i,\":\",val1,\"is present in both x and y\")\n",
        "        cou+=1\n",
        "if cou==0:\n",
        "  print(\"None of the key values match in x and y\")"
      ]
    },
    {
      "cell_type": "markdown",
      "source": [
        "2. Write a Python program to create a dictionary from two lists without losing duplicate values."
      ],
      "metadata": {
        "id": "jj9uQgxrylso"
      }
    },
    {
      "cell_type": "code",
      "source": [
        "#@title 2. Write a Python program to create a dictionary from two lists without losing duplicate values.\n",
        "import collections\n",
        "linput=eval(input(\"Enter list1: \"))\n",
        "lin=eval(input(\"Enter list2: \"))\n",
        "ls=collections.defaultdict(set)\n",
        "for ctr,i in zip(linput,lin):\n",
        "  ls[ctr].add(i)\n",
        "print(\"The required dictionary is:\",ls)"
      ],
      "metadata": {
        "colab": {
          "base_uri": "https://localhost:8080/"
        },
        "id": "obNThifmyqV7",
        "outputId": "ed0cefa9-6677-4fd4-95a4-b6771356bcea"
      },
      "execution_count": null,
      "outputs": [
        {
          "output_type": "stream",
          "name": "stdout",
          "text": [
            "Enter list1: ['Class-V', 'Class-VI', 'Class-VII', 'Class-VIII']\n",
            "Enter list2: [1,2,2,3]\n",
            "The required dictionary is: defaultdict(<class 'set'>, {'Class-V': {1}, 'Class-VI': {2}, 'Class-VII': {2}, 'Class-VIII': {3}})\n"
          ]
        }
      ]
    },
    {
      "cell_type": "markdown",
      "source": [
        "3. Write a Python program to replace dictionary values with their sum.\n"
      ],
      "metadata": {
        "id": "ZMzi3GlhspCW"
      }
    },
    {
      "cell_type": "code",
      "source": [
        "#@title 3. Write a Python program to replace dictionary values with their sum.\n",
        "res=list(eval(input(\"Enter the list of dictionaries: \")))\n",
        "print(\"The dictionaries are: \")\n",
        "for i in res[0:len(res)-1]:\n",
        "  print(i,end=\",\")\n",
        "print(res[-1])\n",
        "c=0\n",
        "for i in res:\n",
        "  i['V+V1']=(i['V']+i['VI'])/2\n",
        "  del i['V']\n",
        "  del i['VI']\n",
        "  lt=list(i.items())\n",
        "  lt[0],lt[1]=lt[1],lt[0]\n",
        "  i=dict(lt)\n",
        "  res[c]=i\n",
        "  c+=1\n",
        "print(\"The dictionaries are now:\")\n",
        "print(\"[\",end=\"\")\n",
        "for i in res[0:len(res)-1]:\n",
        "  print(i,end=\"\")\n",
        "  print(\",\")\n",
        "print(res[-1],end=\"\")\n",
        "print(\"]\")"
      ],
      "metadata": {
        "colab": {
          "base_uri": "https://localhost:8080/"
        },
        "id": "VL74BpFTstlb",
        "outputId": "8545d295-e3cd-4bec-a27b-7f33dbddd2ac"
      },
      "execution_count": 6,
      "outputs": [
        {
          "output_type": "stream",
          "name": "stdout",
          "text": [
            "Enter the list of dictionaries:  {'id' : 1, 'subject' : 'math', 'V' : 70, 'VI': 82}, {'id' : 2, 'subject' : 'math', 'V' : 73, 'VI' : 74}, {'id' : 3, 'subject' : 'math', 'V' : 75, 'VI' : 86}\n",
            "The dictionaries are: \n",
            "{'id': 1, 'subject': 'math', 'V': 70, 'VI': 82},{'id': 2, 'subject': 'math', 'V': 73, 'VI': 74},{'id': 3, 'subject': 'math', 'V': 75, 'VI': 86}\n",
            "The dictionaries are now:\n",
            "[{'subject': 'math', 'id': 1, 'V+V1': 76.0},\n",
            "{'subject': 'math', 'id': 2, 'V+V1': 73.5},\n",
            "{'subject': 'math', 'id': 3, 'V+V1': 80.5}]\n"
          ]
        }
      ]
    },
    {
      "cell_type": "markdown",
      "source": [
        "4. Write a Python program to sort a tuple by its float element."
      ],
      "metadata": {
        "id": "TZcWPuPxfJSN"
      }
    },
    {
      "cell_type": "code",
      "source": [
        "#@title 4. Write a Python program to sort a tuple by its float element.\n",
        "tup=eval(input(\"Enter the tuples: \"))\n",
        "templ=[]\n",
        "for i in tup:\n",
        "  templ.append([i[1],i[0]])\n",
        "templ.sort(reverse=True)\n",
        "for i in range(len(templ)):\n",
        "  templ[i][1],templ[i][0]=templ[i][0],templ[i][1]\n",
        "  templ[i]=(*templ[i],)\n",
        "tup=list(templ)\n",
        "print(\"The sorted tuples are now:\",tup)"
      ],
      "metadata": {
        "colab": {
          "base_uri": "https://localhost:8080/"
        },
        "id": "4IqFQFQcfOtS",
        "outputId": "83954ff2-a7fb-4e95-ce34-05eb442695c6"
      },
      "execution_count": null,
      "outputs": [
        {
          "output_type": "stream",
          "name": "stdout",
          "text": [
            "Enter the tuples:  [('item1', '12.20'), ('item2', '15.10'), ('item3', '24.5')]\n",
            "The sorted tuples are now: [('item3', '24.5'), ('item2', '15.10'), ('item1', '12.20')]\n"
          ]
        }
      ]
    },
    {
      "cell_type": "markdown",
      "source": [
        "5. Write a Python program to remove an empty tuple(s) from a list of tuples."
      ],
      "metadata": {
        "id": "4qokMMAbpc0R"
      }
    },
    {
      "cell_type": "code",
      "source": [
        "#@title 5. Write a Python program to remove an empty tuple(s) from a list of tuples.\n",
        "tup=eval(input(\"Enter list of tuples: \"))\n",
        "cou=tup.count(())\n",
        "for i in range(cou):\n",
        "  tup.remove(())\n",
        "print(\"The list of tuples after doing the required action:\",tup)"
      ],
      "metadata": {
        "colab": {
          "base_uri": "https://localhost:8080/"
        },
        "id": "eQMwS8C0oOIa",
        "outputId": "14c9b9db-967d-467f-bd44-abe83cd2eef8"
      },
      "execution_count": null,
      "outputs": [
        {
          "output_type": "stream",
          "name": "stdout",
          "text": [
            "Enter list of tuples: [(), (), ('',), ('a', 'b'), ('a', 'b', 'c'), ('d')]\n",
            "The list of tuples after doing the required action: [('',), ('a', 'b'), ('a', 'b', 'c'), 'd']\n"
          ]
        }
      ]
    },
    {
      "cell_type": "markdown",
      "source": [
        "6. Write a Python program to convert a list of tuples into a dictionary.\n"
      ],
      "metadata": {
        "id": "DvXo-uV9rn-4"
      }
    },
    {
      "cell_type": "code",
      "source": [
        "#@title 6. Write a Python program to convert a list of tuples into a dictionary.\n",
        "linput=eval(input(\"Enter list of tuples: \"))\n",
        "d={}\n",
        "for i in linput:\n",
        "  d[i[1]]=i[0]\n",
        "print(\"The dictionary is:\",d)"
      ],
      "metadata": {
        "colab": {
          "base_uri": "https://localhost:8080/"
        },
        "outputId": "b79a4b8c-a841-4e84-be65-7c575c3583a4",
        "id": "TiWi18bbrJYm"
      },
      "execution_count": null,
      "outputs": [
        {
          "output_type": "stream",
          "name": "stdout",
          "text": [
            "Enter list of tuples: [(2, \"w\"),(3, \"r\")]\n",
            "The dictionary is: {'w': 2, 'r': 3}\n"
          ]
        }
      ]
    },
    {
      "cell_type": "markdown",
      "source": [
        "7. Write a Python program to count the elements in a list until an element is a tuple."
      ],
      "metadata": {
        "id": "7s6GQJLEfLhS"
      }
    },
    {
      "cell_type": "code",
      "source": [
        "#@title 7. Write a Python program to count the elements in a list until an element is a tuple.\n",
        "linput=eval(input(\"Enter list: \"))\n",
        "cou=0\n",
        "for i in linput:\n",
        "  if type(i) is tuple:\n",
        "    break\n",
        "  else:\n",
        "    cou+=1\n",
        "print(\"The count of elements in the list till a tuple is encountered is:\",cou)"
      ],
      "metadata": {
        "colab": {
          "base_uri": "https://localhost:8080/"
        },
        "id": "TKKpGSyEfXGJ",
        "outputId": "ef26679c-9dd5-4493-cae0-75a298272dd4"
      },
      "execution_count": null,
      "outputs": [
        {
          "output_type": "stream",
          "name": "stdout",
          "text": [
            "Enter list: [10,20,30,(10,20),40]\n",
            "The count of elements in the list till a tuple is encountered is: 3\n"
          ]
        }
      ]
    },
    {
      "cell_type": "markdown",
      "source": [
        "8. Write a Python program to find maximum and the minimum value in a set.\n"
      ],
      "metadata": {
        "id": "-ldIvM1Onq4X"
      }
    },
    {
      "cell_type": "code",
      "source": [
        "#@title 8. Write a Python program to find maximum and the minimum value in a set.\n",
        "s=eval(input(\"Enter set: \"))\n",
        "s=set(s)\n",
        "print(\"The set is:\",s)\n",
        "print(\"The maximum element of the set is:\",max(s))\n",
        "print(\"The minimum element of the set is:\",min(s))"
      ],
      "metadata": {
        "colab": {
          "base_uri": "https://localhost:8080/"
        },
        "id": "y5dgXGr7lQpH",
        "outputId": "85ad7a81-da7e-4dbc-9d37-12692dc31ca0"
      },
      "execution_count": null,
      "outputs": [
        {
          "output_type": "stream",
          "name": "stdout",
          "text": [
            "Enter set: ([5, 10, 3, 15, 2, 20])\n",
            "The set is: {2, 3, 5, 10, 15, 20}\n",
            "The maximum element of the set is: 20\n",
            "The minimum element of the set is: 2\n"
          ]
        }
      ]
    },
    {
      "cell_type": "markdown",
      "source": [
        "9. Write a Python program to create set difference, union, and intersection of sets."
      ],
      "metadata": {
        "id": "Z4tVMswm_57y"
      }
    },
    {
      "cell_type": "code",
      "source": [
        "#@title 9. Write a Python program to create set difference, union, and intersection of sets.\n",
        "s1=eval(input(\"Enter set 1: \"))\n",
        "s2=eval(input(\"Enter set 2: \"))\n",
        "print(\"The sets are:\",s1,s2)\n",
        "print(\"The diferences of the sets is:\",s1-s2,\",\",s2-s1)\n",
        "print(\"The union of the sets is:\",s1|s2)\n",
        "print(\"The intersection of the sets is:\",s1&s2)"
      ],
      "metadata": {
        "colab": {
          "base_uri": "https://localhost:8080/"
        },
        "id": "k0yrg2kc2Aon",
        "outputId": "8f062a72-defd-4804-e569-32eb4c5b0bda"
      },
      "execution_count": null,
      "outputs": [
        {
          "output_type": "stream",
          "name": "stdout",
          "text": [
            "Enter set 1: set([\"green\", \"blue\"])\n",
            "Enter set: set([\"blue\", \"yellow\"])\n",
            "The sets are: {'green', 'blue'} {'yellow', 'blue'}\n",
            "The diferences of the sets is: {'green'} , {'yellow'}\n",
            "The union of the sets is: {'green', 'yellow', 'blue'}\n",
            "The intersection of the sets is: {'blue'}\n"
          ]
        }
      ]
    },
    {
      "cell_type": "markdown",
      "source": [
        "10. Write a Python program to make a chain of function decorators (bold, italic, underline etc.)."
      ],
      "metadata": {
        "id": "T5Ptw_geHXjW"
      }
    },
    {
      "cell_type": "code",
      "source": [
        "#@title 10. Write a Python program to make a chain of function decorators (bold, italic, underline etc.).\n",
        "def bold(fun):\n",
        "  def wrapped():\n",
        "    return \"<b>\" + fun() + \"</b>\"\n",
        "  return wrapped\n",
        "\n",
        "def italicise(fun):\n",
        "  def wrapped():\n",
        "    return \"<i>\" + fun() + \"</i>\"\n",
        "  return wrapped\n",
        "\n",
        "def underline(fun):\n",
        "  def wrapped():\n",
        "    return \"<u>\" + fun() + \"</u>\"\n",
        "  return wrapped\n",
        "\n",
        "@bold\n",
        "@italicise\n",
        "@underline\n",
        "def mat():\n",
        "  s=input(\"Enter string: \")\n",
        "  return s\n",
        "print(mat())"
      ],
      "metadata": {
        "colab": {
          "base_uri": "https://localhost:8080/"
        },
        "id": "wfoVcsCoG8lp",
        "outputId": "ce65bb6c-157e-4296-81a3-42b4950a16e0"
      },
      "execution_count": null,
      "outputs": [
        {
          "output_type": "stream",
          "name": "stdout",
          "text": [
            "Enter string: hello world\n",
            "<b><i><u>hello world</u></i></b>\n"
          ]
        }
      ]
    },
    {
      "cell_type": "markdown",
      "source": [
        "11. Write a Python program to calculate the harmonic sum of n-1."
      ],
      "metadata": {
        "id": "2JCttqZr8iFH"
      }
    },
    {
      "cell_type": "code",
      "source": [
        "#@title 11. Write a Python program to calculate the harmonic sum of n-1.\n",
        "def harmonicSum(n):\n",
        "  if n<2:\n",
        "    return 1\n",
        "  else:\n",
        "    return (1/n)+harmonicSum(n-1)\n",
        "n=int(input(\"Enter n: \"))\n",
        "print(\"The harmonic sum is:\",harmonicSum(n))"
      ],
      "metadata": {
        "colab": {
          "base_uri": "https://localhost:8080/"
        },
        "id": "cZ_sTK-78mqg",
        "outputId": "91c90a99-710f-4bc4-f1a4-0089bf6e4b23"
      },
      "execution_count": null,
      "outputs": [
        {
          "output_type": "stream",
          "name": "stdout",
          "text": [
            "Enter n: 10\n",
            "The harmonic sum is: 2.9289682539682538\n"
          ]
        }
      ]
    },
    {
      "cell_type": "markdown",
      "source": [
        "12. Write a Python program of recursion list sum."
      ],
      "metadata": {
        "id": "Oa5nu1qO9gIp"
      }
    },
    {
      "cell_type": "code",
      "source": [
        "#@title 12. Write a Python program of recursion list sum.\n",
        "def recsumlist(l):\n",
        "  c=0\n",
        "  for i in l:\n",
        "    if type(i)==list:\n",
        "      c+=recsumlist(i)\n",
        "    else:\n",
        "      c+=i\n",
        "  return c\n",
        "l=eval(input(\"Enter the list: \"))\n",
        "print(\"The recursive sum of the list is:\",recsumlist(l))"
      ],
      "metadata": {
        "colab": {
          "base_uri": "https://localhost:8080/"
        },
        "id": "Dy9Q9eTt9itn",
        "outputId": "d51997e9-004e-46e9-f662-63e908c9e1d0"
      },
      "execution_count": null,
      "outputs": [
        {
          "output_type": "stream",
          "name": "stdout",
          "text": [
            "Enter the list:  [1, 2, [3,4], [5,6]]\n",
            "The recursive sum of the list is: 21\n"
          ]
        }
      ]
    },
    {
      "cell_type": "markdown",
      "source": [
        "13. Write a Python program for binary search. Make a module 'search.py' and define a function 'binary_search'."
      ],
      "metadata": {
        "id": "hI2L77TtJFHP"
      }
    },
    {
      "cell_type": "code",
      "source": [
        "#@title 13. Write a Python program for binary search. Make a module 'search.py' and define a function 'binary_search'\n",
        "%%writefile search.py\n",
        "def binary_search(arr,th,low,high):\n",
        "  #Function for binary search\n",
        "  if high>=low:\n",
        "    mid=(high+low)//2\n",
        "    if arr[mid]==th:\n",
        "      return mid\n",
        "    elif arr[mid]>th:\n",
        "      return binary_search(arr,th,low,mid-1)\n",
        "    else:\n",
        "      return binary_search(arr,th,mid+1,high)\n",
        "  else:\n",
        "    return -1"
      ],
      "metadata": {
        "colab": {
          "base_uri": "https://localhost:8080/"
        },
        "id": "z2woyu1CJLa5",
        "outputId": "1d68054a-55f1-45bc-d027-1237ced5f61f"
      },
      "execution_count": null,
      "outputs": [
        {
          "output_type": "stream",
          "name": "stdout",
          "text": [
            "Writing search.py\n"
          ]
        }
      ]
    },
    {
      "cell_type": "code",
      "source": [
        "import search\n",
        "arr=list(map(int,input(\"Enter sorted list of numbers: \").split()))\n",
        "ele=int(input(\"Enter number to be searched for: \"))\n",
        "index=search.binary_search(arr,ele,0,len(arr)-1)\n",
        "print(ele,\"was found at index\",index)"
      ],
      "metadata": {
        "colab": {
          "base_uri": "https://localhost:8080/"
        },
        "id": "17fXWisHoeZB",
        "outputId": "61630810-a595-4f9c-82bc-8cb33c9ad940"
      },
      "execution_count": null,
      "outputs": [
        {
          "output_type": "stream",
          "name": "stdout",
          "text": [
            "Enter sorted list of numbers: 3 5 10 12 15 20\n",
            "Enter number to be searched for: 12\n",
            "12 was found at index 3\n"
          ]
        }
      ]
    },
    {
      "cell_type": "markdown",
      "source": [
        "14. Write a Python program to sort a list of elements using the bubble sort algorithm. Make a module."
      ],
      "metadata": {
        "id": "n3ANsQxoJ_xf"
      }
    },
    {
      "cell_type": "code",
      "source": [
        "#@title 14. Write a Python program to sort a list of elements using the bubble sort algorithm. Make a module.\n",
        "%%writefile sort.py\n",
        "def bubble_sort(arr):\n",
        "  #Function for bubble sort\n",
        "  l=len(arr)\n",
        "  for i in range(l-1):\n",
        "    for j in range(l-i-1):\n",
        "      if arr[j]>arr[j+1]:\n",
        "        arr[j],arr[j+1]=arr[j+1],arr[j]\n",
        "  return"
      ],
      "metadata": {
        "colab": {
          "base_uri": "https://localhost:8080/"
        },
        "id": "rQO2Gmo5syO5",
        "outputId": "8d582569-55ac-42b8-cc37-fed5d9aaf3d8"
      },
      "execution_count": null,
      "outputs": [
        {
          "output_type": "stream",
          "name": "stdout",
          "text": [
            "Writing sort.py\n"
          ]
        }
      ]
    },
    {
      "cell_type": "code",
      "source": [
        "import sort\n",
        "arr=eval(input(\"Enter list: \"))\n",
        "sort.bubble_sort(arr)\n",
        "print(\"The sorted list is:\",arr)"
      ],
      "metadata": {
        "colab": {
          "base_uri": "https://localhost:8080/"
        },
        "id": "-B3iroECshiW",
        "outputId": "87efc7c1-545e-4702-ba5f-e8fcf991f973"
      },
      "execution_count": null,
      "outputs": [
        {
          "output_type": "stream",
          "name": "stdout",
          "text": [
            "Enter list: [14, 46, 43, 27, 57, 41, 45, 21, 70]\n",
            "The sorted list is: [14, 21, 27, 41, 43, 45, 46, 57, 70]\n"
          ]
        }
      ]
    }
  ]
}