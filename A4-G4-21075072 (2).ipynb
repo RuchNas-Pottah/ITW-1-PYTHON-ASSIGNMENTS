{
  "cells": [
    {
      "cell_type": "markdown",
      "metadata": {
        "id": "G2hMdO-3-kBa"
      },
      "source": [
        "**NAME: RUCHIRA NASKAR**\n",
        "---\n",
        "**ROLL NO.: 21075072**\n",
        "---\n",
        "**DEPARTMENT: COMPUTER SCIENCE AND ENGINEERING**\n",
        "---\n",
        "**EMAIL ID: ruchira.naskar.cse21@itbhu.ac.in**\n",
        "---\n",
        "**GROUP: 4**\n",
        "---\n",
        "**END-TERM ASSIGNMENT (PYTHON ASSIGNMENT 4)**\n",
        "---\n",
        "\n"
      ]
    },
    {
      "cell_type": "markdown",
      "metadata": {
        "id": "d5iQB0TvwumX"
      },
      "source": [
        "1. Write a python class to convert Hexadecimal to Decimal using class creation. "
      ]
    },
    {
      "cell_type": "code",
      "execution_count": null,
      "metadata": {
        "colab": {
          "base_uri": "https://localhost:8080/"
        },
        "id": "nDSwZLEPw2j1",
        "outputId": "bfd493dc-840d-43ef-9bd0-7879c753c398"
      },
      "outputs": [
        {
          "name": "stdout",
          "output_type": "stream",
          "text": [
            "Input hexadecimal: C77\n",
            "Output decimal: 3191\n"
          ]
        }
      ],
      "source": [
        "#@title 1. Write a python class to convert Hexadecimal to Decimal using class creation.\n",
        "class hextodec():\n",
        "\n",
        "  def __init__(self,val):\n",
        "    self.n=val\n",
        "  \n",
        "  def dec(self):\n",
        "    v=self.n\n",
        "    ans=0\n",
        "    for i in range(len(v)):\n",
        "      if v[i].isdigit()==0:\n",
        "        ans+=(((ord(v[i])-65)+10)*(16**(len(v)-i-1)))\n",
        "      else:\n",
        "        ans+=(int(v[i])*(16**(len(v)-i-1)))\n",
        "    return ans\n",
        "\n",
        "num=input(\"Input hexadecimal: \")\n",
        "val=hextodec(num)\n",
        "print(\"Output decimal:\",val.dec())"
      ]
    },
    {
      "cell_type": "markdown",
      "metadata": {
        "id": "xSg2nlNP0zGH"
      },
      "source": [
        "2. Write a python class to access a member through super and parent class name."
      ]
    },
    {
      "cell_type": "code",
      "execution_count": null,
      "metadata": {
        "colab": {
          "base_uri": "https://localhost:8080/"
        },
        "id": "vZbI69fZ01qZ",
        "outputId": "c5453fd7-0e8e-4439-d456-904fbda31f69"
      },
      "outputs": [
        {
          "name": "stdout",
          "output_type": "stream",
          "text": [
            "Enter savings of parent and child respectively: 2000 8000\n",
            "In total, the child has: 10000\n"
          ]
        }
      ],
      "source": [
        "#@title 2. Write a python class to access a member through super and parent class name.\n",
        "class Parent:\n",
        "\n",
        "  def __init__(self,savings=0):\n",
        "    self.property=savings\n",
        "\n",
        "class Child(Parent):\n",
        "\n",
        "  def __init__(self,savings1=0,property=0):\n",
        "    super().__init__(property)\n",
        "    self.property1=savings1\n",
        "\n",
        "  def display(self):\n",
        "    print(\"In total, the child has:\",self.property1+self.property)\n",
        "\n",
        "pa,ch=list(map(int,input(\"Enter savings of parent and child respectively: \").split()))\n",
        "c=Child(ch,pa)\n",
        "c.display()"
      ]
    },
    {
      "cell_type": "markdown",
      "metadata": {
        "id": "uqEiKih-tpj5"
      },
      "source": [
        "3. Write a Python class named Rectangle constructed by length and width and a method which will compute the area of a rectangle.\n"
      ]
    },
    {
      "cell_type": "code",
      "execution_count": null,
      "metadata": {
        "colab": {
          "base_uri": "https://localhost:8080/"
        },
        "id": "nmIsmjgDtxmx",
        "outputId": "da8d827c-da66-4718-ce81-65c75621b67a"
      },
      "outputs": [
        {
          "name": "stdout",
          "output_type": "stream",
          "text": [
            "Enter length and width: 12 5\n",
            "The area of the rectangle is: 60\n"
          ]
        }
      ],
      "source": [
        "#@title 3. Write a Python class named Rectangle constructed by length and width and a method which  will compute the area of a rectangle.\n",
        "class Rectangle():\n",
        "\n",
        "  def __init__(self,l,w):\n",
        "    self.length=l\n",
        "    self.width=w\n",
        "  \n",
        "  def Area_of_Rectangle(self):\n",
        "    return self.length*self.width\n",
        "\n",
        "l,b=list(map(int,input(\"Enter length and width: \").split()))\n",
        "RectInput=Rectangle(l,b)\n",
        "print(\"The area of the rectangle is:\",RectInput.Area_of_Rectangle())"
      ]
    },
    {
      "cell_type": "markdown",
      "metadata": {
        "id": "LG7Wj7380tAT"
      },
      "source": [
        "4. Write a NumPy program to sort a given array of shape 2 along the first axis, last axis and on flattened array."
      ]
    },
    {
      "cell_type": "code",
      "execution_count": null,
      "metadata": {
        "colab": {
          "base_uri": "https://localhost:8080/"
        },
        "id": "1990HjeYhBVe",
        "outputId": "d64fee2e-a5b9-4d28-8efe-aff7e9da1ef0"
      },
      "outputs": [
        {
          "name": "stdout",
          "output_type": "stream",
          "text": [
            "Enter array of shape 2: [[10,40],[30,20]]\n",
            "Original array:\n",
            "[[10 40]\n",
            " [30 20]]\n",
            "Sort the array along the first axis:\n",
            "[[10 20]\n",
            " [30 40]]\n",
            "Sort the array along the last axis:\n",
            "[[10 40]\n",
            " [20 30]]\n",
            "Sort the flattened array:\n",
            "[10 20 30 40]\n"
          ]
        }
      ],
      "source": [
        "#@title 4. Write a NumPy program to sort a given array of shape 2 along the first axis, last axis and on  flattened array.\n",
        "import numpy\n",
        "l=eval(input(\"Enter array of shape 2: \"))\n",
        "arr=numpy.array(l)\n",
        "print(\"Original array:\")\n",
        "print(arr)\n",
        "print(\"Sort the array along the first axis:\")\n",
        "print(numpy.sort(arr,axis=0))\n",
        "print(\"Sort the array along the last axis:\")\n",
        "print(numpy.sort(arr))\n",
        "print(\"Sort the flattened array:\")\n",
        "print(numpy.sort(arr,axis=None))"
      ]
    },
    {
      "cell_type": "markdown",
      "metadata": {
        "id": "Q3Yoxk6MFEZS"
      },
      "source": [
        "5. Write a Python module to reverse a string word by word.\n"
      ]
    },
    {
      "cell_type": "code",
      "execution_count": null,
      "metadata": {
        "colab": {
          "base_uri": "https://localhost:8080/"
        },
        "id": "Da6rhBT1HXkK",
        "outputId": "32c89aeb-8efa-47b4-e4b5-2170843d43d7"
      },
      "outputs": [
        {
          "name": "stdout",
          "output_type": "stream",
          "text": [
            "Writing RevString.py\n"
          ]
        }
      ],
      "source": [
        "%%writefile RevString.py\n",
        "def rev(input):\n",
        "  #Function to reverse a string word by word\n",
        "  l=input.split()\n",
        "  l.reverse()\n",
        "  x=\" \".join(l)\n",
        "  input=str(x)\n",
        "  return input"
      ]
    },
    {
      "cell_type": "code",
      "execution_count": null,
      "metadata": {
        "colab": {
          "base_uri": "https://localhost:8080/"
        },
        "id": "O9azblXwJj73",
        "outputId": "6c10942c-2d39-46c9-8ee8-781b476f369c"
      },
      "outputs": [
        {
          "name": "stdout",
          "output_type": "stream",
          "text": [
            "Enter string: hello hi Py\n",
            "The string reversed word by word is: \n",
            "Py hi hello\n"
          ]
        }
      ],
      "source": [
        "#@title 5. Write a Python module to reverse a string word by word.\n",
        "import RevString\n",
        "string=input(\"Enter string: \")\n",
        "string=RevString.rev(string)\n",
        "print(\"The string reversed word by word is: \")\n",
        "print(string)"
      ]
    },
    {
      "cell_type": "markdown",
      "metadata": {
        "id": "898Nop_TA4nA"
      },
      "source": [
        "6. Write a Pandas program to create and display a DataFrame from a specified dictionary data which has the index labels."
      ]
    },
    {
      "cell_type": "code",
      "execution_count": null,
      "metadata": {
        "colab": {
          "base_uri": "https://localhost:8080/"
        },
        "id": "45DTUl-sA8FY",
        "outputId": "1ff868d7-b41e-482b-8a11-d174a1e033b8"
      },
      "outputs": [
        {
          "name": "stdout",
          "output_type": "stream",
          "text": [
            "exam_data: {'name': ['Anastasia', 'Dima', 'Katherine', 'James', 'Emily', 'Michael', 'Matthew',  'Laura','Kevin', 'Jonas'], 'score': [12.5, 9, 16.5, np.nan, 9, 20, 14.5, np.nan, 8, 19], 'attempts': [1, 3, 2, 3, 2, 3, 1, 1, 2, 1], 'qualify': ['yes', 'no', 'yes', 'no', 'no', 'yes', 'yes', 'no', 'no', 'yes']}\n",
            "labels: ['a', 'b', 'c', 'd', 'e', 'f', 'g', 'h', 'i', 'j']\n",
            "Displaying:-\n",
            "   attempts       name qualify  score\n",
            "a         1  Anastasia     yes   12.5\n",
            "b         3       Dima      no    9.0\n",
            "c         2  Katherine     yes   16.5\n",
            "d         3      James      no    NaN\n",
            "e         2      Emily      no    9.0\n",
            "f         3    Michael     yes   20.0\n",
            "g         1    Matthew     yes   14.5\n",
            "h         1      Laura      no    NaN\n",
            "i         2      Kevin      no    8.0\n",
            "j         1      Jonas     yes   19.0\n"
          ]
        }
      ],
      "source": [
        "#@title 6. Write a Pandas program to create and display a DataFrame from a specified dictionary data  which has the index labels.\n",
        "import pandas\n",
        "import numpy as np\n",
        "exam_data=eval(input(\"exam_data: \"))\n",
        "labels=eval(input(\"labels: \"))\n",
        "res=pandas.DataFrame(exam_data,index=labels)\n",
        "colnames=res.columns.tolist()\n",
        "colnames=[colnames[2],colnames[0],colnames[3],colnames[1]]\n",
        "res=res[colnames]\n",
        "print(\"Displaying:-\")\n",
        "print(res)"
      ]
    },
    {
      "cell_type": "markdown",
      "metadata": {
        "id": "0LOyvpjvAy0B"
      },
      "source": [
        "7. Write a NumPy program to compute the trigonometric sine, cosine and tangent array of angles given in degrees. Note: Angles are 0, 30, 45, 60, 90."
      ]
    },
    {
      "cell_type": "code",
      "execution_count": null,
      "metadata": {
        "colab": {
          "base_uri": "https://localhost:8080/",
          "height": 328
        },
        "id": "hsdmfXzSA3X_",
        "outputId": "8f14a059-0127-4b9d-e65c-a9acf04f0634"
      },
      "outputs": [
        {
          "name": "stdout",
          "output_type": "stream",
          "text": [
            "Enter angles in degrees: 0, 30, 45, 60, 90\n",
            "Sine of the angles are given respectively: [0.         0.5        0.70710678 0.8660254  1.        ]\n",
            "Cosine of the angles are given respectively: [1.         0.8660254  0.70710678 0.5        0.        ]\n",
            "Tangent of the angles are given respectively: [0.00000000e+00 5.77350269e-01 1.00000000e+00 1.73205081e+00\n",
            " 1.63312394e+16]\n",
            "\n",
            "Displaying the trigonmetric ratios of the angle in tabular form:-\n"
          ]
        },
        {
          "data": {
            "text/html": [
              "\n",
              "  <div id=\"df-b47ded1c-f4d7-4ed1-a435-5133220fbec7\">\n",
              "    <div class=\"colab-df-container\">\n",
              "      <div>\n",
              "<style scoped>\n",
              "    .dataframe tbody tr th:only-of-type {\n",
              "        vertical-align: middle;\n",
              "    }\n",
              "\n",
              "    .dataframe tbody tr th {\n",
              "        vertical-align: top;\n",
              "    }\n",
              "\n",
              "    .dataframe thead th {\n",
              "        text-align: right;\n",
              "    }\n",
              "</style>\n",
              "<table border=\"1\" class=\"dataframe\">\n",
              "  <thead>\n",
              "    <tr style=\"text-align: right;\">\n",
              "      <th></th>\n",
              "      <th>Angle (in degrees)</th>\n",
              "      <th>Sine</th>\n",
              "      <th>Cosine</th>\n",
              "      <th>Tangent</th>\n",
              "    </tr>\n",
              "  </thead>\n",
              "  <tbody>\n",
              "    <tr>\n",
              "      <th>1</th>\n",
              "      <td>0</td>\n",
              "      <td>0.000000</td>\n",
              "      <td>1.000000e+00</td>\n",
              "      <td>0.000000e+00</td>\n",
              "    </tr>\n",
              "    <tr>\n",
              "      <th>2</th>\n",
              "      <td>30</td>\n",
              "      <td>0.500000</td>\n",
              "      <td>8.660254e-01</td>\n",
              "      <td>5.773503e-01</td>\n",
              "    </tr>\n",
              "    <tr>\n",
              "      <th>3</th>\n",
              "      <td>45</td>\n",
              "      <td>0.707107</td>\n",
              "      <td>7.071068e-01</td>\n",
              "      <td>1.000000e+00</td>\n",
              "    </tr>\n",
              "    <tr>\n",
              "      <th>4</th>\n",
              "      <td>60</td>\n",
              "      <td>0.866025</td>\n",
              "      <td>5.000000e-01</td>\n",
              "      <td>1.732051e+00</td>\n",
              "    </tr>\n",
              "    <tr>\n",
              "      <th>5</th>\n",
              "      <td>90</td>\n",
              "      <td>1.000000</td>\n",
              "      <td>6.123234e-17</td>\n",
              "      <td>1.633124e+16</td>\n",
              "    </tr>\n",
              "  </tbody>\n",
              "</table>\n",
              "</div>\n",
              "      <button class=\"colab-df-convert\" onclick=\"convertToInteractive('df-b47ded1c-f4d7-4ed1-a435-5133220fbec7')\"\n",
              "              title=\"Convert this dataframe to an interactive table.\"\n",
              "              style=\"display:none;\">\n",
              "        \n",
              "  <svg xmlns=\"http://www.w3.org/2000/svg\" height=\"24px\"viewBox=\"0 0 24 24\"\n",
              "       width=\"24px\">\n",
              "    <path d=\"M0 0h24v24H0V0z\" fill=\"none\"/>\n",
              "    <path d=\"M18.56 5.44l.94 2.06.94-2.06 2.06-.94-2.06-.94-.94-2.06-.94 2.06-2.06.94zm-11 1L8.5 8.5l.94-2.06 2.06-.94-2.06-.94L8.5 2.5l-.94 2.06-2.06.94zm10 10l.94 2.06.94-2.06 2.06-.94-2.06-.94-.94-2.06-.94 2.06-2.06.94z\"/><path d=\"M17.41 7.96l-1.37-1.37c-.4-.4-.92-.59-1.43-.59-.52 0-1.04.2-1.43.59L10.3 9.45l-7.72 7.72c-.78.78-.78 2.05 0 2.83L4 21.41c.39.39.9.59 1.41.59.51 0 1.02-.2 1.41-.59l7.78-7.78 2.81-2.81c.8-.78.8-2.07 0-2.86zM5.41 20L4 18.59l7.72-7.72 1.47 1.35L5.41 20z\"/>\n",
              "  </svg>\n",
              "      </button>\n",
              "      \n",
              "  <style>\n",
              "    .colab-df-container {\n",
              "      display:flex;\n",
              "      flex-wrap:wrap;\n",
              "      gap: 12px;\n",
              "    }\n",
              "\n",
              "    .colab-df-convert {\n",
              "      background-color: #E8F0FE;\n",
              "      border: none;\n",
              "      border-radius: 50%;\n",
              "      cursor: pointer;\n",
              "      display: none;\n",
              "      fill: #1967D2;\n",
              "      height: 32px;\n",
              "      padding: 0 0 0 0;\n",
              "      width: 32px;\n",
              "    }\n",
              "\n",
              "    .colab-df-convert:hover {\n",
              "      background-color: #E2EBFA;\n",
              "      box-shadow: 0px 1px 2px rgba(60, 64, 67, 0.3), 0px 1px 3px 1px rgba(60, 64, 67, 0.15);\n",
              "      fill: #174EA6;\n",
              "    }\n",
              "\n",
              "    [theme=dark] .colab-df-convert {\n",
              "      background-color: #3B4455;\n",
              "      fill: #D2E3FC;\n",
              "    }\n",
              "\n",
              "    [theme=dark] .colab-df-convert:hover {\n",
              "      background-color: #434B5C;\n",
              "      box-shadow: 0px 1px 3px 1px rgba(0, 0, 0, 0.15);\n",
              "      filter: drop-shadow(0px 1px 2px rgba(0, 0, 0, 0.3));\n",
              "      fill: #FFFFFF;\n",
              "    }\n",
              "  </style>\n",
              "\n",
              "      <script>\n",
              "        const buttonEl =\n",
              "          document.querySelector('#df-b47ded1c-f4d7-4ed1-a435-5133220fbec7 button.colab-df-convert');\n",
              "        buttonEl.style.display =\n",
              "          google.colab.kernel.accessAllowed ? 'block' : 'none';\n",
              "\n",
              "        async function convertToInteractive(key) {\n",
              "          const element = document.querySelector('#df-b47ded1c-f4d7-4ed1-a435-5133220fbec7');\n",
              "          const dataTable =\n",
              "            await google.colab.kernel.invokeFunction('convertToInteractive',\n",
              "                                                     [key], {});\n",
              "          if (!dataTable) return;\n",
              "\n",
              "          const docLinkHtml = 'Like what you see? Visit the ' +\n",
              "            '<a target=\"_blank\" href=https://colab.research.google.com/notebooks/data_table.ipynb>data table notebook</a>'\n",
              "            + ' to learn more about interactive tables.';\n",
              "          element.innerHTML = '';\n",
              "          dataTable['output_type'] = 'display_data';\n",
              "          await google.colab.output.renderOutput(dataTable, element);\n",
              "          const docLink = document.createElement('div');\n",
              "          docLink.innerHTML = docLinkHtml;\n",
              "          element.appendChild(docLink);\n",
              "        }\n",
              "      </script>\n",
              "    </div>\n",
              "  </div>\n",
              "  "
            ],
            "text/plain": [
              "   Angle (in degrees)      Sine        Cosine       Tangent\n",
              "1                   0  0.000000  1.000000e+00  0.000000e+00\n",
              "2                  30  0.500000  8.660254e-01  5.773503e-01\n",
              "3                  45  0.707107  7.071068e-01  1.000000e+00\n",
              "4                  60  0.866025  5.000000e-01  1.732051e+00\n",
              "5                  90  1.000000  6.123234e-17  1.633124e+16"
            ]
          },
          "metadata": {},
          "output_type": "display_data"
        }
      ],
      "source": [
        "#@title 7. Write a NumPy program to compute the trigonometric sine, cosine and tangent array of  angles given in degrees. Note: Angles are 0, 30, 45, 60, 90.\n",
        "import numpy\n",
        "import pandas\n",
        "from IPython.display import display\n",
        "arr=list(map(int,input(\"Enter angles in degrees: \").split(',')))\n",
        "arr=numpy.array(arr)\n",
        "sine=numpy.sin(arr*numpy.pi/180)\n",
        "cosine=numpy.cos(arr*numpy.pi/180)\n",
        "tangent=numpy.tan(arr*numpy.pi/180)\n",
        "print(\"Sine of the angles are given respectively:\",sine)\n",
        "print(\"Cosine of the angles are given respectively:\",cosine)\n",
        "print(\"Tangent of the angles are given respectively:\",tangent)\n",
        "res={'Angle (in degrees)':arr,'Sine':sine,'Cosine':cosine,'Tangent':tangent}\n",
        "print()\n",
        "tab=pandas.DataFrame(res,index=range(1,len(arr)+1im))\n",
        "tab.style\n",
        "print(\"Displaying the trigonmetric ratios of the angle in tabular form:-\")\n",
        "display(tab)"
      ]
    },
    {
      "cell_type": "markdown",
      "metadata": {
        "id": "VeEHP6XOAvCh"
      },
      "source": [
        "8. Write a NumPy program compute the sum of the diagonal element of a given array."
      ]
    },
    {
      "cell_type": "code",
      "execution_count": null,
      "metadata": {
        "colab": {
          "base_uri": "https://localhost:8080/"
        },
        "id": "HJZmvzBqAyPB",
        "outputId": "3ce4f902-d1a2-41f1-b850-bb2e9311049c"
      },
      "outputs": [
        {
          "name": "stdout",
          "output_type": "stream",
          "text": [
            "Enter array contents: [[1,2,3],[4,5,6],[7,8,9]]\n",
            "Array is:\n",
            "[[1 2 3]\n",
            " [4 5 6]\n",
            " [7 8 9]]\n",
            "The sum of the diagonal elements of the array is: 15\n"
          ]
        }
      ],
      "source": [
        "#@title 8. Write a NumPy program compute the sum of the diagonal element of a given array.\n",
        "import numpy\n",
        "flag=1\n",
        "l=eval(input(\"Enter array contents: \"))\n",
        "arr=numpy.array(l)\n",
        "print(\"Array is:\")\n",
        "print(arr)\n",
        "res=numpy.trace(arr)\n",
        "print(\"The sum of the diagonal elements of the array is:\",res)"
      ]
    },
    {
      "cell_type": "markdown",
      "metadata": {
        "id": "pBNHxYZ0AqQY"
      },
      "source": [
        "9. Write a Pandas program to select the rows where the score is missing, i.e. is NaN."
      ]
    },
    {
      "cell_type": "code",
      "execution_count": null,
      "metadata": {
        "colab": {
          "base_uri": "https://localhost:8080/"
        },
        "id": "dpBPdnElAuf4",
        "outputId": "c636abf7-48ae-4e38-cc26-319c8f3b7025"
      },
      "outputs": [
        {
          "name": "stdout",
          "output_type": "stream",
          "text": [
            "exam_data: {'name': ['Anastasia', 'Dima', 'Katherine', 'James', 'Emily', 'Michael', 'Matthew',  'Laura','Kevin', 'Jonas'], 'score': [12.5, 9, 16.5, NaN, 9, 20, 14.5, NaN, 8, 19], 'attempts': [1, 3, 2, 3, 2, 3, 1, 1, 2, 1], 'qualify': ['yes', 'no', 'yes', 'no', 'no', 'yes', 'yes', 'no', 'no', 'yes']}\n",
            "labels: ['a', 'b', 'c', 'd', 'e', 'f', 'g', 'h', 'i', 'j']\n",
            "Displaying the rows where the score is between 15 and 20 (inclusive):-\n",
            "   attempts   name qualify  score\n",
            "d         3  James      no    NaN\n",
            "h         1  Laura      no    NaN\n"
          ]
        }
      ],
      "source": [
        "#@title 9. Write a Pandas program to select the rows where the score is missing, i.e. is NaN.\n",
        "import pandas\n",
        "import numpy as np\n",
        "NaN=np.nan\n",
        "exam_data=eval(input(\"exam_data: \"))\n",
        "labels=eval(input(\"labels: \"))\n",
        "res=pandas.DataFrame(exam_data,index=labels)\n",
        "colnames=res.columns.tolist()\n",
        "colnames=[colnames[2],colnames[0],colnames[3],colnames[1]]\n",
        "res=res[colnames]\n",
        "print(\"Displaying the rows where the score is between 15 and 20 (inclusive):-\")\n",
        "print(res[res['score'].isnull()])"
      ]
    },
    {
      "cell_type": "markdown",
      "metadata": {
        "id": "IkA1rUvYAmdp"
      },
      "source": [
        "10. Write a Pandas program to select the rows where the score is between 15 and 20 (inclusive)."
      ]
    },
    {
      "cell_type": "code",
      "execution_count": null,
      "metadata": {
        "colab": {
          "base_uri": "https://localhost:8080/"
        },
        "id": "5B48Sd1lAplB",
        "outputId": "f876ad28-b640-411b-fe56-e2272d8af572"
      },
      "outputs": [
        {
          "name": "stdout",
          "output_type": "stream",
          "text": [
            "exam_data: {'name': ['Anastasia', 'Dima', 'Katherine', 'James', 'Emily', 'Michael', 'Matthew',  'Laura','Kevin', 'Jonas'], 'score': [12.5, 9, 16.5, np.nan, 9, 20, 14.5, np.nan, 8, 19], 'attempts': [1, 3, 2, 3, 2, 3, 1, 1, 2, 1], 'qualify': ['yes', 'no', 'yes', 'no', 'no', 'yes', 'yes', 'no', 'no', 'yes']}\n",
            "labels: ['a', 'b', 'c', 'd', 'e', 'f', 'g', 'h', 'i', 'j']\n",
            "Displaying the rows where the score is between 15 and 20 (inclusive):-\n",
            "   attempts       name qualify  score\n",
            "c         2  Katherine     yes   16.5\n",
            "f         3    Michael     yes   20.0\n",
            "j         1      Jonas     yes   19.0\n"
          ]
        }
      ],
      "source": [
        "#@title 10. Write a Pandas program to select the rows where the score is between 15 and 20 (inclusive).\n",
        "import pandas\n",
        "import numpy as np\n",
        "exam_data=eval(input(\"exam_data: \"))\n",
        "labels=eval(input(\"labels: \"))\n",
        "res=pandas.DataFrame(exam_data,index=labels)\n",
        "colnames=res.columns.tolist()\n",
        "colnames=[colnames[2],colnames[0],colnames[3],colnames[1]]\n",
        "res=res[colnames]\n",
        "print(\"Displaying the rows where the score is between 15 and 20 (inclusive):-\")\n",
        "print(res[res['score'].between(15,20)])"
      ]
    },
    {
      "cell_type": "markdown",
      "metadata": {
        "id": "hG_0WRG4sISb"
      },
      "source": [
        "11. Write python program to plot histogram, bar chart, line graph, scatter graph for some sample data."
      ]
    },
    {
      "cell_type": "code",
      "execution_count": 30,
      "metadata": {
        "colab": {
          "base_uri": "https://localhost:8080/",
          "height": 1000
        },
        "id": "JR7x80insLji",
        "outputId": "cbbd9b84-83fa-43d7-b1e3-3e6cf22aa302"
      },
      "outputs": [
        {
          "name": "stdout",
          "output_type": "stream",
          "text": [
            "Enter values for the histogram: [12, 47, 5, 43, 56, 73, 65, 54, 21, 20, 51, 5, 79, 31, 24]\n",
            "Mention range: [0,25,50,75,100]\n",
            "Enter label for X: Axis-X\n",
            "Enter label for Y: Axis-Y\n"
          ]
        },
        {
          "data": {
            "image/png": "[encoded data removed]",
            "text/plain": [
              "<Figure size 720x720 with 1 Axes>"
            ]
          },
          "metadata": {
            "needs_background": "light"
          },
          "output_type": "display_data"
        },
        {
          "name": "stdout",
          "output_type": "stream",
          "text": [
            "\n",
            "\n",
            "Enter components for Bar chart: ['Harry','Hermione','Ron','Ginny']\n",
            "Enter values: [70,98,78,86]\n",
            "Enter label for X: Student\n",
            "Enter label for Y: Rating\n"
          ]
        },
        {
          "data": {
            "image/png": "[encoded data removed]",
            "text/plain": [
              "<Figure size 720x720 with 1 Axes>"
            ]
          },
          "metadata": {
            "needs_background": "light"
          },
          "output_type": "display_data"
        },
        {
          "name": "stdout",
          "output_type": "stream",
          "text": [
            "\n",
            "\n",
            "Enter components for line graph: ['A','B','C','D']\n",
            "Enter values: [4,8,20,12]\n",
            "Enter label for X: Person\n",
            "Enter label for Y: Age\n"
          ]
        },
        {
          "data": {
            "image/png": "[encoded data removed]",
            "text/plain": [
              "<Figure size 720x720 with 1 Axes>"
            ]
          },
          "metadata": {
            "needs_background": "light"
          },
          "output_type": "display_data"
        },
        {
          "name": "stdout",
          "output_type": "stream",
          "text": [
            "\n",
            "\n",
            "Enter components for scatter graph: [15,20,18,70,25,17,2,9,4,11,12,90,16]\n",
            "Enter values: [98,76,87,98,111,126,103,87,94,78,77,85,66]\n",
            "Enter label for X: Axis-X\n",
            "Enter label for Y: Axis-Y\n"
          ]
        },
        {
          "data": {
            "image/png": "[encoded data removed]",
            "text/plain": [
              "<Figure size 720x720 with 1 Axes>"
            ]
          },
          "metadata": {
            "needs_background": "light"
          },
          "output_type": "display_data"
        }
      ],
      "source": [
        "#@title 11. Write python program to plot histogram, bar chart, line graph, scatter graph for some sample data.\n",
        "import numpy\n",
        "import matplotlib.pyplot as plot\n",
        "\n",
        "vals=eval(input(\"Enter values for the histogram: \"))\n",
        "vals=numpy.array(vals)\n",
        "fig,ax=plot.subplots(figsize=(10,10))\n",
        "ran=eval(input(\"Mention range: \"))\n",
        "ax.hist(vals,bins=ran,color=\"blue\")\n",
        "plot.title(\"Histogram\")\n",
        "plot.xlabel(input(\"Enter label for X: \"))\n",
        "plot.ylabel(input(\"Enter label for Y: \"))\n",
        "plot.show()\n",
        "\n",
        "print(\"\\n\")\n",
        "comp=eval(input(\"Enter components for Bar chart: \"))\n",
        "vals=eval(input(\"Enter values: \"))\n",
        "fig=plot.figure(figsize=(10,10))\n",
        "plot.bar(comp,vals,color ='red',width = 0.4)\n",
        "plot.xlabel(input(\"Enter label for X: \"))\n",
        "plot.ylabel(input(\"Enter label for Y: \"))\n",
        "plot.title(\"Bar chart\")\n",
        "plot.show()\n",
        "\n",
        "print(\"\\n\")\n",
        "comp=eval(input(\"Enter components for line graph: \"))\n",
        "vals=eval(input(\"Enter values: \"))\n",
        "fig=plot.figure(figsize=(10,10))\n",
        "plot.plot(comp,vals,color ='black')\n",
        "plot.xlabel(input(\"Enter label for X: \"))\n",
        "plot.ylabel(input(\"Enter label for Y: \"))\n",
        "plot.title(\"Line graph\")\n",
        "plot.show()\n",
        "\n",
        "print(\"\\n\")\n",
        "comp=eval(input(\"Enter components for scatter graph: \"))\n",
        "vals=eval(input(\"Enter values: \"))\n",
        "fig=plot.figure(figsize=(10,10))\n",
        "plot.scatter(comp,vals,color ='violet')\n",
        "plot.title(\"Scatter graph\")\n",
        "plot.xlabel(input(\"Enter label for X: \"))\n",
        "plot.ylabel(input(\"Enter label for Y: \"))\n",
        "plot.show()"
      ]
    },
    {
      "cell_type": "markdown",
      "metadata": {
        "id": "wXmPZ145pNgh"
      },
      "source": [
        "12. Write a python program to handle exception error using try and except, else, finally, and raise with in a single program.\n"
      ]
    },
    {
      "cell_type": "code",
      "execution_count": null,
      "metadata": {
        "colab": {
          "base_uri": "https://localhost:8080/"
        },
        "id": "9eVE1udF6518",
        "outputId": "a98573ef-4363-46de-94b3-228942820e54"
      },
      "outputs": [
        {
          "name": "stdout",
          "output_type": "stream",
          "text": [
            "Enter two numbers: 2 2\n",
            "Division by zero is not allowed!\n",
            "Code executed!\n",
            "\n",
            "Enter two numbers: 6 2\n",
            "Result of the calculation is ready. It is: 2.0\n",
            "Code executed!\n",
            "\n"
          ]
        }
      ],
      "source": [
        "#@title 12. Write a python program to handle exception error using try and except, else, finally, and  raise with in a single program.\n",
        "class Error(Exception):\n",
        "  pass\n",
        "\n",
        "class divisionbyzero(Error):\n",
        "  pass\n",
        "\n",
        "flag=1\n",
        "while flag==1:\n",
        "  try:\n",
        "    a,b=list(map(int,input(\"Enter two numbers: \").split()))\n",
        "    sum,subt=a+b,a-b\n",
        "    if subt==0:\n",
        "      raise divisionbyzero\n",
        "  except divisionbyzero:\n",
        "    print(\"Division by zero is not allowed!\")\n",
        "  else:\n",
        "    c=(a+b)/(a-b)\n",
        "    print(\"Result of the calculation is ready. It is:\",c)\n",
        "    flag=0\n",
        "  finally:\n",
        "    print(\"Code executed!\")\n",
        "  print()"
      ]
    },
    {
      "cell_type": "markdown",
      "metadata": {
        "id": "wTDUIX3roDs7"
      },
      "source": [
        "13. Write a NumPy program to find the number of elements of an array, length of one array element in bytes and total bytes consumed by the elements.\n"
      ]
    },
    {
      "cell_type": "code",
      "execution_count": null,
      "metadata": {
        "colab": {
          "base_uri": "https://localhost:8080/"
        },
        "id": "YDZY9rq3oGHI",
        "outputId": "12d43a0b-fe5a-4e3f-b698-b32904643a48"
      },
      "outputs": [
        {
          "name": "stdout",
          "output_type": "stream",
          "text": [
            "Enter array contents: [1,2,3]\n",
            "Numpy array: [1 2 3]\n",
            "Size of the array: 3\n",
            "Length of one array element in bytes: 8\n",
            "Total bytes consumed by the elements of the array: 24\n"
          ]
        }
      ],
      "source": [
        "#@title 13. Write a NumPy program to find the number of elements of an array, length of one array  element in bytes and total bytes consumed by the elements.\n",
        "import numpy\n",
        "l=eval(input(\"Enter array contents: \"))\n",
        "arr=numpy.array(l)\n",
        "print(\"Numpy array:\",arr)\n",
        "print(\"Size of the array:\",arr.size)\n",
        "print(\"Length of one array element in bytes:\",arr.itemsize)\n",
        "print(\"Total bytes consumed by the elements of the array:\",arr.nbytes)"
      ]
    },
    {
      "cell_type": "markdown",
      "metadata": {
        "id": "gcS8LgyJli26"
      },
      "source": [
        "14. Write a Python program to convert a NumPy array to a Pandas series."
      ]
    },
    {
      "cell_type": "code",
      "execution_count": null,
      "metadata": {
        "colab": {
          "base_uri": "https://localhost:8080/"
        },
        "id": "ezlmeGPPlo-B",
        "outputId": "51fe2677-dbe8-4f3f-9ca2-9e7748c5de6c"
      },
      "outputs": [
        {
          "name": "stdout",
          "output_type": "stream",
          "text": [
            "Enter array contents: [10,20,30,40,50]\n",
            "Numpy array: [10 20 30 40 50]\n",
            "Converted Pandas series:\n",
            "0    10\n",
            "1    20\n",
            "2    30\n",
            "3    40\n",
            "4    50\n",
            "dtype: int64\n"
          ]
        }
      ],
      "source": [
        "#@title 14. Write a Python program to convert a NumPy array to a Pandas series.\n",
        "import numpy\n",
        "import pandas\n",
        "l=eval(input(\"Enter array contents: \"))\n",
        "arr=numpy.array(l)\n",
        "print(\"Numpy array:\",arr)\n",
        "pdseries=pandas.Series(arr)\n",
        "print(\"Converted Pandas series:\")\n",
        "print(pdseries)"
      ]
    },
    {
      "cell_type": "markdown",
      "metadata": {
        "id": "Fi3nr6d8d_V2"
      },
      "source": [
        "15. Write a Pandas program to get the powers of an array values element-wise. Note: First array elements raised to powers from second array"
      ]
    },
    {
      "cell_type": "code",
      "execution_count": 6,
      "metadata": {
        "colab": {
          "base_uri": "https://localhost:8080/"
        },
        "id": "had9EVvZfFvN",
        "outputId": "8cde3b25-2780-458d-a67b-ba42ea663970"
      },
      "outputs": [
        {
          "name": "stdout",
          "output_type": "stream",
          "text": [
            "Enter array1: [1,2,3]\n",
            "Enter array2; [1,5,3]\n",
            "Originally array1 and array 2 are, respectively:-\n",
            "[1 2 3]\n",
            "[1 5 3]\n",
            "Required result:-\n",
            "0     1\n",
            "1    32\n",
            "2    27\n",
            "dtype: int64\n"
          ]
        }
      ],
      "source": [
        "#@title 15. Write a Pandas program to get the powers of an array values element-wise. Note: First array elements raised to powers from second array\n",
        "import pandas\n",
        "import numpy\n",
        "arr1=eval(input(\"Enter array1: \"))\n",
        "arr2=eval(input(\"Enter array2; \"))\n",
        "a1,a2=numpy.array(arr1),numpy.array(arr2)\n",
        "print(\"Originally array1 and array 2 are, respectively:-\")\n",
        "print(a1)\n",
        "print(a2)\n",
        "c1,c2=pandas.Series(a1),pandas.Series(a2)\n",
        "res=c1.pow(c2)\n",
        "print(\"Required result:-\")\n",
        "print(res)"
      ]
    },
    {
      "cell_type": "markdown",
      "metadata": {
        "id": "-TPhtah5Knyf"
      },
      "source": [
        "16. Write a Python program to create an intersection of sets using the concept of modules. Make a module 'Intersect.py' with a function intersection_set()."
      ]
    },
    {
      "cell_type": "code",
      "execution_count": null,
      "metadata": {
        "colab": {
          "base_uri": "https://localhost:8080/"
        },
        "id": "Q2LKK8fTK0su",
        "outputId": "f277b2c8-5d35-4f8d-f52a-d336e85ca479"
      },
      "outputs": [
        {
          "name": "stdout",
          "output_type": "stream",
          "text": [
            "Writing Intersect.py\n"
          ]
        }
      ],
      "source": [
        "%%writefile Intersect.py\n",
        "def intersection_set(s1,s2):\n",
        "  x=s1&s2\n",
        "  return x"
      ]
    },
    {
      "cell_type": "code",
      "execution_count": null,
      "metadata": {
        "colab": {
          "base_uri": "https://localhost:8080/"
        },
        "id": "0dyTbPtCLNsX",
        "outputId": "6848972c-e613-45a7-9916-dcf880745af3"
      },
      "outputs": [
        {
          "name": "stdout",
          "output_type": "stream",
          "text": [
            "Enter set1: {'green', 'blue'}\n",
            "Enter set2: {'blue', 'yellow'}\n",
            "Intersection of two said sets: {'blue'}\n"
          ]
        }
      ],
      "source": [
        "#@title 16. Write a Python program to create an intersection of sets using the concept of modules. Make a module 'Intersect.py' with a function intersection_set().\n",
        "import Intersect\n",
        "s1=eval(input(\"Enter set1: \"))\n",
        "s2=eval(input(\"Enter set2: \"))\n",
        "ans=Intersect.intersection_set(s1,s2)\n",
        "print(\"Intersection of two said sets:\",ans)"
      ]
    },
    {
      "cell_type": "markdown",
      "metadata": {
        "id": "DWbz4eRlZ8rU"
      },
      "source": [
        "17. Write a Python program to draw a scatter plot comparing two subject marks of Mathematics and Science. Use marks of 10 students."
      ]
    },
    {
      "cell_type": "code",
      "execution_count": null,
      "metadata": {
        "colab": {
          "base_uri": "https://localhost:8080/",
          "height": 945
        },
        "id": "yYGmxKXwaAti",
        "outputId": "d6c08667-a213-430b-fee0-5aee53bf92da"
      },
      "outputs": [
        {
          "name": "stdout",
          "output_type": "stream",
          "text": [
            "Enter marks for Mathematics: [88, 92, 80, 89, 100, 80, 60, 100, 80, 34]\n",
            "Enter marks for Science: [35, 79, 79, 48, 100, 88, 32, 45, 20, 30]\n",
            "Enter marks range: [10, 20, 30, 40, 50, 60, 70, 80, 90, 100]\n"
          ]
        },
        {
          "data": {
            "image/png": "[encoded data removed]",
            "text/plain": [
              "<Figure size 1080x1080 with 1 Axes>"
            ]
          },
          "metadata": {
            "needs_background": "light"
          },
          "output_type": "display_data"
        }
      ],
      "source": [
        "#@title 17. Write a Python program to draw a scatter plot comparing two subject marks of Mathematics  and Science. Use marks of 10 students.\n",
        "import matplotlib.pyplot as plot\n",
        "math_marks=eval(input(\"Enter marks for Mathematics: \"))\n",
        "science_marks=eval(input(\"Enter marks for Science: \"))\n",
        "marks_range=eval(input(\"Enter marks range: \"))\n",
        "plot.scatter(marks_range, math_marks, label='Math Marks', color='blue')\n",
        "plot.scatter(marks_range, science_marks, label='Science Marks', color='red')\n",
        "plot.title('Scatter_Plot: Test Marks')\n",
        "plot.xlabel('Marks Range')\n",
        "plot.ylabel('Marks Secured')\n",
        "plot.rcParams[\"figure.figsize\"] = (10,10)\n",
        "plot.legend()\n",
        "plot.show()"
      ]
    },
    {
      "cell_type": "markdown",
      "metadata": {
        "id": "Bf3GgtziSnu8"
      },
      "source": [
        "18. Write a Python program to create a pie chart of the popularity of programming Languages."
      ]
    },
    {
      "cell_type": "code",
      "execution_count": null,
      "metadata": {
        "colab": {
          "base_uri": "https://localhost:8080/",
          "height": 643
        },
        "id": "DUX-lkXySr_j",
        "outputId": "7dd9e5d3-f865-4c9c-c0b7-5c3f6a80c29d"
      },
      "outputs": [
        {
          "name": "stdout",
          "output_type": "stream",
          "text": [
            "Enter the programming languages: Java, Python, PHP, JavaScript, C#, C++\n",
            "Enter popularity of the languages respectively: 22.2, 17.6, 8.8, 8, 7.7, 6.7\n",
            "Enter the respective display colours of the languages: blue,orange,green,red,violet,brown\n"
          ]
        },
        {
          "data": {
            "image/png": "[encoded data removed]",
            "text/plain": [
              "<Figure size 1008x720 with 1 Axes>"
            ]
          },
          "metadata": {},
          "output_type": "display_data"
        }
      ],
      "source": [
        "#@title 18. Write a Python program to create a pie chart of the popularity of programming Languages.\n",
        "import matplotlib.pyplot as plot\n",
        "proglags=list(input(\"Enter the programming languages: \").split(','))\n",
        "pop=list(map(float,input(\"Enter popularity of the languages respectively: \").split(',')))\n",
        "cols=list(input(\"Enter the respective display colours of the languages: \").split(','))\n",
        "explode=(0.1,0,0,0,0,0)\n",
        "plot.pie(pop,explode=explode,labels=proglags,colors=cols,autopct=\"%1.1f%%\",shadow=True,startangle=140)\n",
        "plot.axis('equal')\n",
        "plot.title(\"Popularity of Programming Languages\")\n",
        "plot.rcParams[\"figure.figsize\"] = (10,10)\n",
        "plot.legend()\n",
        "plot.show()"
      ]
    }
  ],
  "metadata": {
    "colab": {
      "collapsed_sections": [],
      "name": "A4-G4-21075072",
      "provenance": []
    },
    "kernelspec": {
      "display_name": "Python 3.10.5 64-bit (windows store)",
      "language": "python",
      "name": "python3"
    },
    "language_info": {
      "name": "python",
      "version": "3.10.5"
    },
    "vscode": {
      "interpreter": {
        "hash": "b7b50a5b7e796e132c290562fd1c1941ef458fba19b80761d00f08d91a850be6"
      }
    }
  },
  "nbformat": 4,
  "nbformat_minor": 0
}
