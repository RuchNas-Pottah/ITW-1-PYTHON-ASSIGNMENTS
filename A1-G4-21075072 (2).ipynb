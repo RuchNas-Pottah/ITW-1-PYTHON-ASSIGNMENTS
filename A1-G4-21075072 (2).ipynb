{
  "cells": [
    {
      "cell_type": "markdown",
      "metadata": {
        "id": "Kvz0ghmW_gTb"
      },
      "source": [
        "NAME: RUCHIRA NASKAR"
      ]
    },
    {
      "cell_type": "markdown",
      "metadata": {},
      "source": [
        "ROLL NO.: 21075072"
      ]
    },
    {
      "cell_type": "markdown",
      "metadata": {},
      "source": [
        "DEPARTMENT: COMPUTER SCIENCE AND ENGINEERING"
      ]
    },
    {
      "cell_type": "markdown",
      "metadata": {},
      "source": [
        "EMAIL ID: ruchira.naskar.cse21@itbhu.ac.in"
      ]
    },
    {
      "cell_type": "markdown",
      "metadata": {},
      "source": [
        "PYTHON ASSIGNMENT 1"
      ]
    },
    {
      "cell_type": "markdown",
      "metadata": {},
      "source": [
        "1) Write a Python program to get a string made of the first 2 and the last 2 chars from a given a string. \n",
        "If the string length is less than 2, return instead of the empty string."
      ]
    },
    {
      "cell_type": "code",
      "execution_count": null,
      "metadata": {
        "colab": {
          "base_uri": "https://localhost:8080/"
        },
        "id": "JxO8WUT-_6T0",
        "outputId": "e4778029-ec75-4778-8559-e1c5f2a32ee3"
      },
      "outputs": [
        {
          "name": "stdout",
          "output_type": "stream",
          "text": [
            "Enter string: a1resource\n",
            "The required string is: a1ce\n"
          ]
        }
      ],
      "source": [
        "#@title 1) Write a Python program to get a string made of the first 2 and the last 2 chars from a given a string.  If the string length is less than 2, return instead of the empty string.\n",
        "s=input(\"Enter string: \")\n",
        "ans=\"\"\n",
        "if len(s)<2:\n",
        "    print(\"Empty String\")\n",
        "else:\n",
        "    ans=s[0:2]+s[-2::]\n",
        "    print(\"The required string is:\",ans)"
      ]
    },
    {
      "cell_type": "markdown",
      "metadata": {
        "id": "AWwyFfk6Atil"
      },
      "source": [
        "2) Write a Python program to get a string from a given string where all occurrences of its first char have been changed to '$', except the first char itself."
      ]
    },
    {
      "cell_type": "code",
      "execution_count": null,
      "metadata": {
        "colab": {
          "base_uri": "https://localhost:8080/"
        },
        "id": "GFxh0llvBDZF",
        "outputId": "d8ddbf15-8dc8-49f2-f0ff-e0007e6cf28a"
      },
      "outputs": [
        {
          "name": "stdout",
          "output_type": "stream",
          "text": [
            "Enter a string: restart\n",
            "The string is now: resta$t\n"
          ]
        }
      ],
      "source": [
        "#@title 2) Write a Python program to get a string from a given string where all occurrences of its first char have been changed to '$', except the first char itself.\n",
        "s=input(\"Enter a string: \")\n",
        "fc=s[0]\n",
        "x=fc\n",
        "for i in s[1::]:\n",
        "    if i==fc:\n",
        "        x+=\"$\"\n",
        "    else:\n",
        "        x+=i\n",
        "s=str(x)\n",
        "print(\"The string is now:\",s)"
      ]
    },
    {
      "cell_type": "markdown",
      "metadata": {
        "id": "-KULZ04MBRwJ"
      },
      "source": [
        "3) Write a Python program to find the first appearance of the substring 'not' and 'poor' from a given string, if 'not' is followed by the 'poor', replace the whole 'not'...'poor' substring with 'good'. Return the resulting string."
      ]
    },
    {
      "cell_type": "code",
      "execution_count": 1,
      "metadata": {
        "colab": {
          "base_uri": "https://localhost:8080/"
        },
        "id": "-4998aLXBcYe",
        "outputId": "1311e2c9-59cc-46de-c91e-664790f2d2b5"
      },
      "outputs": [
        {
          "name": "stdout",
          "output_type": "stream",
          "text": [
            "Enter a string: The lyrics is not that poor!\n",
            "The substring 'not' is found at 14\n",
            "The substring 'poor' is found at 23\n",
            "The substring 'not' occurs before the 'poor'\n",
            "The modified string is now: The lyrics is good!\n"
          ]
        }
      ],
      "source": [
        "#@title 3) Write a Python program to find the first appearance of the substring 'not' and 'poor' from a given string, if 'not' is followed by the 'poor', replace the whole 'not'...'poor' substring with 'good'. Return the resulting string.\n",
        "s=input(\"Enter a string: \")\n",
        "pn=s.find(\"not\")\n",
        "pp=s.find(\"poor\")\n",
        "if pn==-1:\n",
        "    print(\"The substring 'not' is not available in this string\")\n",
        "elif pp==-1:\n",
        "    print(\"The substring 'poor' is not available in this string\")\n",
        "else:\n",
        "    print(\"The substring 'not' is found at\",pn)\n",
        "    print(\"The substring 'poor' is found at\",pp)\n",
        "    if pn<pp:\n",
        "        print(\"The substring 'not' occurs before the 'poor'\")\n",
        "        s=s[0:pn]+\"good\"+s[pp+4::]\n",
        "        print(\"The modified string is now:\",s)\n",
        "    else:\n",
        "        print(\"The substring 'not' does not occur before the substring 'poor'\")"
      ]
    },
    {
      "cell_type": "markdown",
      "metadata": {
        "id": "rZgbAyGlCCym"
      },
      "source": [
        "4) Write a Python program to sort a string lexicographically."
      ]
    },
    {
      "cell_type": "code",
      "execution_count": null,
      "metadata": {
        "colab": {
          "base_uri": "https://localhost:8080/"
        },
        "id": "a_RrHGYvCHo_",
        "outputId": "21b56069-8894-420e-e97b-f02ddd9cc4ef"
      },
      "outputs": [
        {
          "name": "stdout",
          "output_type": "stream",
          "text": [
            "Enter a string: bvas\n",
            "The lexicographically sorted string is: absv\n"
          ]
        }
      ],
      "source": [
        "#@title 4) Write a Python program to sort a string lexicographically.\n",
        "s=input(\"Enter a string: \")\n",
        "l=[]\n",
        "l[::]=s\n",
        "l.sort()\n",
        "s=\"\".join(l)\n",
        "print(\"The lexicographically sorted string is:\",s)"
      ]
    },
    {
      "cell_type": "markdown",
      "metadata": {
        "id": "hDC7ZDF1CV9W"
      },
      "source": [
        "5) Write a Python program to count repeated characters in a string."
      ]
    },
    {
      "cell_type": "code",
      "execution_count": null,
      "metadata": {
        "colab": {
          "base_uri": "https://localhost:8080/"
        },
        "id": "e0YH_cYJCbp0",
        "outputId": "139b9926-d901-4c6e-f701-e021f44294c5"
      },
      "outputs": [
        {
          "name": "stdout",
          "output_type": "stream",
          "text": [
            "Enter a string: thequickbrownfoxjumpsoverthelazydog\n",
            "u 2\n",
            "h 2\n",
            "e 3\n",
            "t 2\n",
            "r 2\n",
            "o 4\n"
          ]
        }
      ],
      "source": [
        "#@title 5) Write a Python program to count repeated characters in a string.\n",
        "s=input(\"Enter a string: \")\n",
        "l=[]\n",
        "l[::]=s\n",
        "lset=list(set(l))\n",
        "res=[]\n",
        "for i in lset:\n",
        "    if l.count(i)>1:\n",
        "        res.append([i,l.count(i)])\n",
        "for i in res:\n",
        "    print(i[0],i[1])"
      ]
    },
    {
      "cell_type": "markdown",
      "metadata": {
        "id": "oTLzar05CqxJ"
      },
      "source": [
        "6) Write a Python program which accepts a sequence of comma separated 4 digit binary numbers as its input and print the numbers that are divisible by 5 in a comma separated sequence.\n"
      ]
    },
    {
      "cell_type": "code",
      "execution_count": null,
      "metadata": {
        "colab": {
          "base_uri": "https://localhost:8080/"
        },
        "id": "6R5Bxm_KGFKk",
        "outputId": "f786e321-0d4e-41ac-d71d-84f4cfbebfdc"
      },
      "outputs": [
        {
          "name": "stdout",
          "output_type": "stream",
          "text": [
            "Enter the numbers: 0100,0011,1010,1001,1100,1001\n",
            "The number(s) divisible by 5 is(are):\n",
            "1010\n"
          ]
        }
      ],
      "source": [
        "#@title 6) Write a Python program which accepts a sequence of comma separated 4 digit binary numbers as its input and print the numbers that are divisible by 5 in a comma separated sequence.\n",
        "def bintodec(n):\n",
        "    copy=n\n",
        "    p=0\n",
        "    dec=0\n",
        "    while copy>0:\n",
        "        dec+=(copy%10)*(2**p)\n",
        "        copy//=10\n",
        "        p+=1\n",
        "    return dec\n",
        "binnums=list(input(\"Enter the numbers: \").split(\",\"))\n",
        "res=[]\n",
        "for i in binnums:\n",
        "    i=int(i)\n",
        "    v=bintodec(i)\n",
        "    if v%5==0:\n",
        "        res.append([bintodec(i),i])\n",
        "if res==[]:\n",
        "    print(\"None of the numbers is divisible by 5.\")\n",
        "else:\n",
        "    print(\"The number(s) divisible by 5 is(are):\")\n",
        "    for i in res[0:len(res)-1]:\n",
        "        print(i[1],end=\",\")\n",
        "    print(res[-1][1])"
      ]
    },
    {
      "cell_type": "markdown",
      "metadata": {
        "id": "jTzrRpRQGgcV"
      },
      "source": [
        "7) Write a Python program to insert a new item before the second element in an existing array."
      ]
    },
    {
      "cell_type": "code",
      "execution_count": null,
      "metadata": {
        "colab": {
          "base_uri": "https://localhost:8080/"
        },
        "id": "upyrJVW1Gmjd",
        "outputId": "4024667c-faf5-42a5-c430-058e444d6cce"
      },
      "outputs": [
        {
          "name": "stdout",
          "output_type": "stream",
          "text": [
            "Enter type code: i\n",
            "Enter the contents: [1,2,3]\n",
            "The array is: array('i', [1, 2, 3])\n",
            "Enter an element to be inserted: 4\n",
            "The array after modification is: array('i', [1, 4, 2, 3])\n"
          ]
        }
      ],
      "source": [
        "#@title 7) Write a Python program to insert a new item before the second element in an existing array.\n",
        "import array\n",
        "code=input(\"Enter type code: \")\n",
        "arr=eval(input(\"Enter the contents: \"))\n",
        "arr=array.array(code,arr)\n",
        "print(\"The array is:\",arr)\n",
        "ele=input(\"Enter an element to be inserted: \")\n",
        "if code in 'fd':\n",
        "    ele=float(ele)\n",
        "elif code in 'iIbBhHlLqQ':\n",
        "    ele=int(ele)\n",
        "arr.insert(1,ele)\n",
        "print(\"The array after modification is:\",arr)"
      ]
    },
    {
      "cell_type": "markdown",
      "metadata": {
        "id": "e2H215n2HBOk"
      },
      "source": [
        "8)  Write a Python program to print alphabet pattern 'R'."
      ]
    },
    {
      "cell_type": "code",
      "execution_count": null,
      "metadata": {
        "colab": {
          "base_uri": "https://localhost:8080/"
        },
        "id": "7-9JoMt9HGQ-",
        "outputId": "a63a3c31-9ddb-4a70-dd98-ff6a848a0cfe"
      },
      "outputs": [
        {
          "name": "stdout",
          "output_type": "stream",
          "text": [
            "****\n",
            "* * \n",
            "* * \n",
            "****\n",
            "**  \n",
            "* * \n",
            "*  *\n",
            "\n"
          ]
        }
      ],
      "source": [
        "#@title 8)  Write a Python program to print alphabet pattern 'R'.\n",
        "r=\"\"\n",
        "for row in range(7):\n",
        "    for col in range(4):\n",
        "        if (row==0 or row==3) or ((row==1 or row==2 or row==5) and (col==0 or col==2)) or ((row==4 and (col==0 or col==1)) or (row==6 and (col==0 or col==3))):\n",
        "            r+=\"*\"\n",
        "        else:\n",
        "            r+=\" \"\n",
        "    r+=\"\\n\"\n",
        "print(r)"
      ]
    },
    {
      "cell_type": "markdown",
      "metadata": {
        "id": "y_4-lMOpHPl7"
      },
      "source": [
        "9) Write a Python program to get the number of occurrences of a specified element in an array."
      ]
    },
    {
      "cell_type": "code",
      "execution_count": null,
      "metadata": {
        "colab": {
          "base_uri": "https://localhost:8080/"
        },
        "id": "thjU06W6HU5q",
        "outputId": "2797dcca-71b7-4e84-beee-90eb54d8ee18"
      },
      "outputs": [
        {
          "name": "stdout",
          "output_type": "stream",
          "text": [
            "Enter type code: i\n",
            "Enter the contents: [1,1,2,3,1]\n",
            "The array is: array('i', [1, 1, 2, 3, 1])\n",
            "Enter an element to be counted: 1\n",
            "The count of the element in the array is: 3\n"
          ]
        }
      ],
      "source": [
        "#@title 9) Write a Python program to get the number of occurrences of a specified element in an array.\n",
        "import array\n",
        "code=input(\"Enter type code: \")\n",
        "arr=eval(input(\"Enter the contents: \"))\n",
        "arr=array.array(code,arr)\n",
        "print(\"The array is:\",arr)\n",
        "ele=input(\"Enter an element to be counted: \")\n",
        "if code in 'fd':\n",
        "    ele=float(ele)\n",
        "elif code in 'iIbBhHlLqQ':\n",
        "    ele=int(ele)\n",
        "count=arr.count(ele)\n",
        "print(\"The count of the element in the array is:\",count)"
      ]
    },
    {
      "cell_type": "markdown",
      "metadata": {
        "id": "uyi8oBvbIbOh"
      },
      "source": [
        "10)  Write a Python program to remove a specified item using the index from an array"
      ]
    },
    {
      "cell_type": "code",
      "execution_count": null,
      "metadata": {
        "colab": {
          "base_uri": "https://localhost:8080/"
        },
        "id": "3OzsbQ_5IhjY",
        "outputId": "af8cd604-2902-40d2-ae06-c1b11716cdf8"
      },
      "outputs": [
        {
          "name": "stdout",
          "output_type": "stream",
          "text": [
            "Enter type code: i\n",
            "Enter the contents: [1,2,3]\n",
            "The array is: array('i', [1, 2, 3])\n",
            "Enter index to remove the element: 1\n",
            "The element removed from the index 1 is 2\n",
            "The array now is: array('i', [1, 3])\n"
          ]
        }
      ],
      "source": [
        "#@title 10) Write a Python program to remove a specified item using the index from an array\n",
        "import array\n",
        "code=input(\"Enter type code: \")\n",
        "arr=eval(input(\"Enter the contents: \"))\n",
        "arr=array.array(code,arr)\n",
        "print(\"The array is:\",arr)\n",
        "index=int(input(\"Enter index to remove the element: \"))\n",
        "ele=arr.pop(index)\n",
        "print(\"The element removed from the index\",index,\"is\",ele)\n",
        "print(\"The array now is:\",arr)"
      ]
    },
    {
      "cell_type": "markdown",
      "metadata": {
        "id": "59y0SeRTIy7p"
      },
      "source": [
        "11) Write a Python program to convert an array to an ordinary list with the same items.\n"
      ]
    },
    {
      "cell_type": "code",
      "execution_count": null,
      "metadata": {
        "colab": {
          "base_uri": "https://localhost:8080/"
        },
        "id": "eIr5eZHcI5HU",
        "outputId": "c6887e90-fe77-4674-e2e5-7528023f5f50"
      },
      "outputs": [
        {
          "name": "stdout",
          "output_type": "stream",
          "text": [
            "Enter type code: i\n",
            "Enter the contents: [1,2,3,4,5]\n",
            "The array is: array('i', [1, 2, 3, 4, 5])\n",
            "Array converted to List is: [1, 2, 3, 4, 5]\n"
          ]
        }
      ],
      "source": [
        "#@title 11) Write a Python program to convert an array to an ordinary list with the same items.\n",
        "from array import *\n",
        "def arrtolist(arr):\n",
        "    l=arr.tolist()\n",
        "    return l\n",
        "code=input(\"Enter type code: \")\n",
        "arr=eval(input(\"Enter the contents: \"))\n",
        "arr=array(code,arr)\n",
        "print(\"The array is:\",arr)\n",
        "arr=arrtolist(arr)\n",
        "print(\"Array converted to List is:\",arr)"
      ]
    },
    {
      "cell_type": "markdown",
      "metadata": {
        "id": "t2INp212JGjS"
      },
      "source": [
        "12)  Write a Python program to remove duplicates from a list of lists."
      ]
    },
    {
      "cell_type": "code",
      "execution_count": null,
      "metadata": {
        "colab": {
          "base_uri": "https://localhost:8080/"
        },
        "id": "JxFfy7p2JRnr",
        "outputId": "a8bfb32a-4ade-4347-a994-022a71e45c87"
      },
      "outputs": [
        {
          "name": "stdout",
          "output_type": "stream",
          "text": [
            "Enter list:  [[10, 20], [40], [30, 56, 25], [10, 20], [33], [40]]\n",
            "The list of lists with duplicates removed is: [[10, 20], [40], [30, 56, 25], [33]]\n"
          ]
        }
      ],
      "source": [
        "#@title 12)  Write a Python program to remove duplicates from a list of lists.\n",
        "res=eval(input(\"Enter list: \"))\n",
        "uniq=[]\n",
        "i=0\n",
        "lres=len(res)\n",
        "for i in range(len(res)):\n",
        "    ele=res[i]\n",
        "    if uniq.count(ele)==0:\n",
        "        uniq.append(ele)\n",
        "res=list(uniq)\n",
        "print(\"The list of lists with duplicates removed is:\",res)"
      ]
    },
    {
      "cell_type": "markdown",
      "metadata": {
        "id": "MEKlObyPJpjE"
      },
      "source": [
        "13) Write a Python program to find the list in a list of lists whose sum of elements is the highest."
      ]
    },
    {
      "cell_type": "code",
      "execution_count": null,
      "metadata": {
        "colab": {
          "base_uri": "https://localhost:8080/"
        },
        "id": "YyvN8dwCLPoP",
        "outputId": "9eaf2d56-807c-4ffa-e343-21681f1c3277"
      },
      "outputs": [
        {
          "name": "stdout",
          "output_type": "stream",
          "text": [
            "Enter list: [1,2,3], [4,5,6], [10,11,12], [7,8,9]\n",
            "The list(s) with sum of elements highest is(are): [10, 11, 12]\n"
          ]
        }
      ],
      "source": [
        "#@title 13) Write a Python program to find the list in a list of lists whose sum of elements is the highest.\n",
        "flag=1\n",
        "res=eval(input(\"Enter list: \"))\n",
        "suml=[]\n",
        "for i in res:\n",
        "    suml.append([sum(i),i])\n",
        "suml.sort(reverse=True)\n",
        "m=suml[0][0]\n",
        "print(\"The list(s) with sum of elements highest is(are): \",end=\"\")\n",
        "ok=[]\n",
        "c=0\n",
        "for i in suml:\n",
        "    if i[0]==m:\n",
        "        c==1\n",
        "        ok.append(i[1])\n",
        "for i in ok[0:c-1]:\n",
        "    print(i,end=\",\")\n",
        "print(ok[-1])"
      ]
    },
    {
      "cell_type": "markdown",
      "metadata": {
        "id": "HrFfwylwLd07"
      },
      "source": [
        "14) Write a Python program to insert a given string at the beginning of all items in a list.\n"
      ]
    },
    {
      "cell_type": "code",
      "execution_count": null,
      "metadata": {
        "colab": {
          "base_uri": "https://localhost:8080/"
        },
        "id": "sps_56R6LiUc",
        "outputId": "3016fccc-4570-4796-9c25-53c492745868"
      },
      "outputs": [
        {
          "name": "stdout",
          "output_type": "stream",
          "text": [
            "Enter list: [1,2,3,4]\n",
            "Enter a string: emp\n",
            "The list is now:  ['emp1', 'emp2', 'emp3', 'emp4']\n"
          ]
        }
      ],
      "source": [
        "#@title 14) Write a Python program to insert a given string at the beginning of all items in a list.\n",
        "linput=eval(input(\"Enter list: \"))\n",
        "s=input(\"Enter a string: \")\n",
        "for i in range(len(linput)):\n",
        "    linput[i]=s+str(linput[i])\n",
        "print(\"The list is now: \",linput)\n"
      ]
    }
  ],
  "metadata": {
    "colab": {
      "collapsed_sections": [],
      "name": "A1-G4-21075072.ipynb",
      "provenance": []
    },
    "kernelspec": {
      "display_name": "Python 3",
      "name": "python3"
    },
    "language_info": {
      "name": "python"
    }
  },
  "nbformat": 4,
  "nbformat_minor": 0
}
